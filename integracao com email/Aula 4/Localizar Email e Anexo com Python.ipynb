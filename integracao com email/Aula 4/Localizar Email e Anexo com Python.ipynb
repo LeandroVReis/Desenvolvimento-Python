{
 "cells": [
  {
   "cell_type": "code",
   "execution_count": 1,
   "id": "7b425da8",
   "metadata": {},
   "outputs": [],
   "source": [
    "from imap_tools import MailBox, AND\n",
    "\n",
    "usuario = \"email\"\n",
    "senha = \"senha\"\n",
    "\n",
    "meu_email = MailBox(\"imap-mail.outlook.com\").login(usuario, senha)"
   ]
  },
  {
   "cell_type": "code",
   "execution_count": 10,
   "id": "ebee7f0f",
   "metadata": {},
   "outputs": [
    {
     "name": "stdout",
     "output_type": "stream",
     "text": [
      "Relatório de Vendas de Ontem\n",
      "Prezados, bom dia\n",
      "\n",
      "O faturamento de ontem foi de: R$2,917,311.00\n",
      "A quantidade de produtos foi de: 15,227\n",
      "\n",
      "Abs\n",
      "LiraPython\n",
      "\n",
      "Relatório de Vendas de Ontem\n",
      "Prezados, bom dia\n",
      "\n",
      "O faturamento de ontem foi de: R$2,917,311.00\n",
      "A quantidade de produtos foi de: 15,227\n",
      "\n",
      "Abs\n",
      "LiraPython\n",
      "\n",
      "Relatório de Vendas do Lira\n",
      "Prezados,\n",
      "\n",
      "Segue em anexo o relatório de vendas de outubro.\n",
      "\n",
      "Att.,\n",
      "Lira\n",
      "\n",
      "Relatorio Excel de Vendas\n",
      "Prezados,\n",
      "\n",
      "Segue em anexo o relatório de vendas de outubro.\n",
      "\n",
      "Att.,\n",
      "Lira\n",
      "\n"
     ]
    }
   ],
   "source": [
    "# pegar email que foram enviados por um remetente específico\n",
    "\n",
    "lista_emails = meu_email.fetch(AND(from_=\"email\", to=\"emails\"))\n",
    "for email in lista_emails:\n",
    "    print(email.subject)\n",
    "    print(email.text)"
   ]
  },
  {
   "cell_type": "code",
   "execution_count": 11,
   "id": "24573987",
   "metadata": {},
   "outputs": [],
   "source": [
    "# pegar anexo de um email\n",
    "lista_emails = meu_email.fetch(AND(from_=\"email\"))\n",
    "for email in lista_emails:\n",
    "    if len(email.attachments) > 0:\n",
    "        for anexo in email.attachments:\n",
    "            if \"RelatorioExcel\" in anexo.filename:\n",
    "                informacoes_anexo = anexo.payload\n",
    "                with open(\"RelatorioExcel.xlsx\", \"wb\") as arquivo_excel:\n",
    "                    arquivo_excel.write(informacoes_anexo)"
   ]
  },
  {
   "cell_type": "code",
   "execution_count": null,
   "id": "4075eb73",
   "metadata": {},
   "outputs": [],
   "source": []
  }
 ],
 "metadata": {
  "kernelspec": {
   "display_name": "Python 3 (ipykernel)",
   "language": "python",
   "name": "python3"
  },
  "language_info": {
   "codemirror_mode": {
    "name": "ipython",
    "version": 3
   },
   "file_extension": ".py",
   "mimetype": "text/x-python",
   "name": "python",
   "nbconvert_exporter": "python",
   "pygments_lexer": "ipython3",
   "version": "3.9.12"
  }
 },
 "nbformat": 4,
 "nbformat_minor": 5
}
