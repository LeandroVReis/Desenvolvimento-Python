{
 "cells": [
  {
   "cell_type": "code",
   "execution_count": 3,
   "id": "30840b12",
   "metadata": {},
   "outputs": [
    {
     "name": "stdout",
     "output_type": "stream",
     "text": [
      "0\n",
      "1\n",
      "2\n",
      "3\n",
      "4\n"
     ]
    }
   ],
   "source": [
    "for i in range(5):\n",
    "    print(i)"
   ]
  },
  {
   "cell_type": "code",
   "execution_count": 10,
   "id": "77ec8b07",
   "metadata": {},
   "outputs": [
    {
     "name": "stdout",
     "output_type": "stream",
     "text": [
      "A quantidade de coca-cola  foi 100 \n",
      "A quantidade de   pepsi    foi  92 \n",
      "A quantidade de   fanta    foi  50 \n",
      "A quantidade de   sprite   foi  45 \n",
      "A quantidade de   tônica   foi  23 \n",
      "A quantidade de    kuat    foi  75 \n"
     ]
    }
   ],
   "source": [
    "produtos = ['coca-cola','pepsi','fanta','sprite','tônica','kuat']\n",
    "qtd_vendas = [100, 92, 50, 45, 23, 75]\n",
    "\n",
    "for i in range(len(produtos)):\n",
    "    print('A quantidade de {:^10} foi {:^4}'.format(produtos[i],qtd_vendas[i]))    "
   ]
  },
  {
   "cell_type": "code",
   "execution_count": 14,
   "id": "31766b02",
   "metadata": {},
   "outputs": [
    {
     "name": "stdout",
     "output_type": "stream",
     "text": [
      "A quantidade de coca-cola  foi 100 \n",
      "A quantidade de   pepsi    foi  92 \n",
      "A quantidade de   fanta    foi  50 \n",
      "A quantidade de   sprite   foi  45 \n",
      "A quantidade de   tônica   foi  23 \n",
      "A quantidade de    kuat    foi  75 \n"
     ]
    }
   ],
   "source": [
    "produtos = ['coca-cola','pepsi','fanta','sprite','tônica','kuat']\n",
    "qtd_vendas = [100, 92, 50, 45, 23, 75]\n",
    "cont = 0\n",
    "for i in produtos:\n",
    "    print('A quantidade de {:^10} foi {:^4}'.format(i, qtd_vendas[cont]))\n",
    "    cont += 1"
   ]
  },
  {
   "cell_type": "code",
   "execution_count": 19,
   "id": "14f8d75f",
   "metadata": {},
   "outputs": [
    {
     "name": "stdout",
     "output_type": "stream",
     "text": [
      "O quadro final ficou:\n",
      "66.67% Bateram meta\n",
      "33.33% Não bateram meta\n"
     ]
    }
   ],
   "source": [
    "qtd_vendas = [100, 92, 50, 45, 23, 75]\n",
    "c_meta = 0\n",
    "c_fora = 0\n",
    "for i in qtd_vendas:\n",
    "    if (i >= 50):\n",
    "        c_meta += 1\n",
    "    else:\n",
    "        c_fora += 1\n",
    "porc_meta = c_meta / len(qtd_vendas)\n",
    "porc_fora = c_fora / len(qtd_vendas)\n",
    "print('O quadro final ficou:\\n{:>3.2%} Bateram meta\\n{:>3.2%} Não bateram meta'.format(porc_meta,porc_fora))"
   ]
  },
  {
   "cell_type": "code",
   "execution_count": 21,
   "id": "0fd5bcea",
   "metadata": {},
   "outputs": [
    {
     "name": "stdout",
     "output_type": "stream",
     "text": [
      "0 - coca-cola\n",
      "1 - pepsi\n",
      "2 - fanta\n",
      "3 - sprite\n",
      "4 - tônica\n",
      "5 - kuat\n"
     ]
    }
   ],
   "source": [
    "produtos = ['coca-cola','pepsi','fanta','sprite','tônica','kuat']\n",
    "\n",
    "for i,prod in enumerate(produtos):\n",
    "    print('{} - {}'.format(i,prod))"
   ]
  },
  {
   "cell_type": "code",
   "execution_count": 33,
   "id": "1d9febd9",
   "metadata": {},
   "outputs": [
    {
     "name": "stdout",
     "output_type": "stream",
     "text": [
      "Os produtos que estão abaixo da meta são:\n",
      "coca-cola\n",
      "pepsi\n",
      "fanta\n",
      "sprite\n",
      "tônica\n",
      "kuat\n"
     ]
    }
   ],
   "source": [
    "produtos = ['coca-cola','pepsi','fanta','sprite','tônica','kuat']\n",
    "qtd_vendas = [100, 92, 50, 45, 23, 75]\n",
    "ind = []\n",
    "for i,qtd in enumerate(qtd_vendas):\n",
    "    if (i < 50):\n",
    "        ind.append(i)\n",
    "if ind:\n",
    "    print('Os produtos que estão abaixo da meta são:')\n",
    "    for i in ind:\n",
    "        print(produtos[i])"
   ]
  }
 ],
 "metadata": {
  "kernelspec": {
   "display_name": "Python 3 (ipykernel)",
   "language": "python",
   "name": "python3"
  },
  "language_info": {
   "codemirror_mode": {
    "name": "ipython",
    "version": 3
   },
   "file_extension": ".py",
   "mimetype": "text/x-python",
   "name": "python",
   "nbconvert_exporter": "python",
   "pygments_lexer": "ipython3",
   "version": "3.9.12"
  }
 },
 "nbformat": 4,
 "nbformat_minor": 5
}
