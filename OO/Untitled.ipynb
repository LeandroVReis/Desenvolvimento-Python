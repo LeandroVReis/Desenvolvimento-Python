{
 "cells": [
  {
   "cell_type": "code",
   "execution_count": 2,
   "id": "97124b3e",
   "metadata": {
    "ExecuteTime": {
     "end_time": "2022-09-28T15:01:00.222080Z",
     "start_time": "2022-09-28T15:01:00.214093Z"
    }
   },
   "outputs": [
    {
     "name": "stdout",
     "output_type": "stream",
     "text": [
      "Seu saldo atual é de R$0.00\n",
      "Seu saldo atual é de R$10,000.00\n",
      "Saldo Final\n",
      "Seu saldo atual é de R$10,000.00\n",
      "Seu limite de Cheque Especial é de R$-1,000.00\n",
      "--------------------\n",
      "Histórico de Transações:\n",
      "Valor, Saldo, Data e Hora\n",
      "(10000, 10000, '28/09/2022 12:01:00')\n"
     ]
    }
   ],
   "source": [
    "from datetime import datetime\n",
    "import pytz\n",
    "\n",
    "\n",
    "class ContaCorrente:\n",
    "\n",
    "    @staticmethod\n",
    "    def _data_hora():\n",
    "        fuso_BR = pytz.timezone('Brazil/East')\n",
    "        horario_BR = datetime.now(fuso_BR)\n",
    "        return horario_BR.strftime('%d/%m/%Y %H:%M:%S')\n",
    "\n",
    "    def __init__(self, nome, cpf, agencia, num_conta):\n",
    "        self.nome = nome\n",
    "        self.cpf = cpf\n",
    "        self.saldo = 0\n",
    "        self.limite = None\n",
    "        self.agencia = agencia\n",
    "        self.num_conta = num_conta\n",
    "        self.transacoes = []\n",
    "\n",
    "    def consultar_saldo(self):\n",
    "        print('Seu saldo atual é de R${:,.2f}'.format(self.saldo))\n",
    "\n",
    "    def depositar(self, valor):\n",
    "        self.saldo += valor\n",
    "        self.transacoes.append((valor, self.saldo, ContaCorrente._data_hora()))\n",
    "\n",
    "    def _limite_conta(self):\n",
    "        self.limite = -1000\n",
    "        return self.limite\n",
    "\n",
    "    def sacar_dinheiro(self, valor):\n",
    "        if self.saldo - valor < self._limite_conta():\n",
    "            print('Você não tem saldo suficiente para sacar esse valor')\n",
    "            self.consultar_saldo()\n",
    "        else:\n",
    "            self.saldo -= valor\n",
    "            self.transacoes.append((-valor, self.saldo, ContaCorrente._data_hora()))\n",
    "\n",
    "    def consultar_limite_chequeespecial(self):\n",
    "        print('Seu limite de Cheque Especial é de R${:,.2f}'.format(self._limite_conta()))\n",
    "\n",
    "    def consultar_historico_transacoes(self):\n",
    "        print('Histórico de Transações:')\n",
    "        print('Valor, Saldo, Data e Hora')\n",
    "        for transacao in self.transacoes:\n",
    "            print(transacao)\n",
    "\n",
    "    def transferir(self, valor, conta_destino):\n",
    "        self.saldo -= valor\n",
    "        self.transacoes.append((-valor, self.saldo, ContaCorrente._data_hora()))\n",
    "        conta_destino.saldo += valor\n",
    "        conta_destino.transacoes.append((valor, conta_destino.saldo, ContaCorrente._data_hora()))\n",
    "\n",
    "\n",
    "# programa\n",
    "conta_Lira = ContaCorrente(\"Lira\", \"111.222.333-45\", 1234, 34062)\n",
    "conta_Lira.consultar_saldo()\n",
    "\n",
    "# depositando um dinheirinho na conta\n",
    "conta_Lira.depositar(10000)\n",
    "conta_Lira.consultar_saldo()\n",
    "\n",
    "print('Saldo Final')\n",
    "conta_Lira.consultar_saldo()\n",
    "conta_Lira.consultar_limite_chequeespecial()\n",
    "\n",
    "print('-' * 20)\n",
    "conta_Lira.consultar_historico_transacoes()"
   ]
  }
 ],
 "metadata": {
  "kernelspec": {
   "display_name": "Python 3 (ipykernel)",
   "language": "python",
   "name": "python3"
  },
  "language_info": {
   "codemirror_mode": {
    "name": "ipython",
    "version": 3
   },
   "file_extension": ".py",
   "mimetype": "text/x-python",
   "name": "python",
   "nbconvert_exporter": "python",
   "pygments_lexer": "ipython3",
   "version": "3.9.12"
  }
 },
 "nbformat": 4,
 "nbformat_minor": 5
}
