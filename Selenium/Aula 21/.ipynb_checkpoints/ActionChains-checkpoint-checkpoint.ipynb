{
 "cells": [
  {
   "cell_type": "markdown",
   "id": "367cd714",
   "metadata": {},
   "source": [
    "### Documentação Selenium:\n",
    "\n",
    "- https://selenium-python.readthedocs.io/locating-elements.html"
   ]
  },
  {
   "cell_type": "code",
   "execution_count": 1,
   "id": "4e28f9f7",
   "metadata": {
    "ExecuteTime": {
     "end_time": "2022-10-01T16:56:17.401786Z",
     "start_time": "2022-10-01T16:56:14.798118Z"
    }
   },
   "outputs": [],
   "source": [
    "from selenium import webdriver\n",
    "from selenium.webdriver.chrome.service import Service\n",
    "from webdriver_manager.chrome import ChromeDriverManager\n",
    "from selenium.webdriver.common.by import By\n",
    "\n",
    "servico = Service(ChromeDriverManager().install())\n",
    "navegador = webdriver.Chrome(service=servico)"
   ]
  },
  {
   "cell_type": "code",
   "execution_count": 2,
   "id": "59c8398d",
   "metadata": {
    "ExecuteTime": {
     "end_time": "2022-10-01T16:56:26.849683Z",
     "start_time": "2022-10-01T16:56:26.197823Z"
    }
   },
   "outputs": [],
   "source": [
    "import os\n",
    "\n",
    "caminho = os.getcwd()\n",
    "arquivo = caminho + r\"\\Pagina Hashtag.html\"\n",
    "navegador.get(arquivo)"
   ]
  },
  {
   "cell_type": "markdown",
   "id": "7d964ce5",
   "metadata": {},
   "source": [
    "#### Dropdown diferente em um site real"
   ]
  },
  {
   "cell_type": "code",
   "execution_count": null,
   "id": "09f60749",
   "metadata": {},
   "outputs": [],
   "source": []
  },
  {
   "cell_type": "markdown",
   "id": "80f18fcd",
   "metadata": {},
   "source": [
    "### ActionChains\n",
    "\n",
    "Link com a referência: https://www.selenium.dev/pt-br/documentation/webdriver/actions_api/mouse/"
   ]
  },
  {
   "cell_type": "code",
   "execution_count": null,
   "id": "dbac0005",
   "metadata": {},
   "outputs": [],
   "source": []
  }
 ],
 "metadata": {
  "kernelspec": {
   "display_name": "Python 3 (ipykernel)",
   "language": "python",
   "name": "python3"
  },
  "language_info": {
   "codemirror_mode": {
    "name": "ipython",
    "version": 3
   },
   "file_extension": ".py",
   "mimetype": "text/x-python",
   "name": "python",
   "nbconvert_exporter": "python",
   "pygments_lexer": "ipython3",
   "version": "3.9.12"
  }
 },
 "nbformat": 4,
 "nbformat_minor": 5
}
