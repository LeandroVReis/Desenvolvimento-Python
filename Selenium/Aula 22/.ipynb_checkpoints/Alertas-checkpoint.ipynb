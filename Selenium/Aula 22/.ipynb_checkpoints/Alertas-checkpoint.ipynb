{
 "cells": [
  {
   "cell_type": "markdown",
   "id": "367cd714",
   "metadata": {
    "id": "367cd714"
   },
   "source": [
    "### Documentação Selenium:\n",
    "\n",
    "- https://selenium-python.readthedocs.io/locating-elements.html"
   ]
  },
  {
   "cell_type": "code",
   "execution_count": 1,
   "id": "4e28f9f7",
   "metadata": {
    "ExecuteTime": {
     "end_time": "2022-10-05T22:24:21.984106Z",
     "start_time": "2022-10-05T22:24:16.681529Z"
    },
    "id": "4e28f9f7"
   },
   "outputs": [
    {
     "name": "stderr",
     "output_type": "stream",
     "text": [
      "[WDM] - Downloading: 100%|████████████████████████████████████████████████████████| 6.29M/6.29M [00:00<00:00, 85.6MB/s]\n"
     ]
    }
   ],
   "source": [
    "from selenium import webdriver\n",
    "from selenium.webdriver.chrome.service import Service\n",
    "from webdriver_manager.chrome import ChromeDriverManager\n",
    "from selenium.webdriver.common.by import By\n",
    "\n",
    "servico = Service(ChromeDriverManager().install())\n",
    "navegador = webdriver.Chrome(service=servico)"
   ]
  },
  {
   "cell_type": "code",
   "execution_count": 2,
   "id": "59c8398d",
   "metadata": {
    "ExecuteTime": {
     "end_time": "2022-10-05T22:24:54.715655Z",
     "start_time": "2022-10-05T22:24:54.668625Z"
    },
    "id": "59c8398d"
   },
   "outputs": [],
   "source": [
    "import os\n",
    "\n",
    "caminho = os.getcwd()\n",
    "arquivo = caminho + r\"\\alertas.html\"\n",
    "navegador.get(arquivo)"
   ]
  },
  {
   "cell_type": "markdown",
   "id": "7d964ce5",
   "metadata": {
    "id": "7d964ce5"
   },
   "source": [
    "#### Alertas Básicos"
   ]
  },
  {
   "cell_type": "code",
   "execution_count": 3,
   "id": "09f60749",
   "metadata": {
    "ExecuteTime": {
     "end_time": "2022-10-05T22:25:23.005984Z",
     "start_time": "2022-10-05T22:25:22.941982Z"
    },
    "id": "09f60749"
   },
   "outputs": [],
   "source": [
    "# selecionar um alerta\n",
    "navegador.find_element(By.XPATH, '/html/body/div[1]/input').click()"
   ]
  },
  {
   "cell_type": "code",
   "execution_count": 4,
   "id": "98088545",
   "metadata": {
    "ExecuteTime": {
     "end_time": "2022-10-05T22:25:39.964128Z",
     "start_time": "2022-10-05T22:25:39.956688Z"
    },
    "id": "98088545"
   },
   "outputs": [],
   "source": [
    "# forma simples\n",
    "# alerta = navegador.switch_to.alert\n",
    "# alerta.accept()\n",
    "\n",
    "# forma \"completa\"\n",
    "from selenium.webdriver.common.alert import Alert\n",
    "\n",
    "alerta = Alert(navegador)\n",
    "alerta.accept()"
   ]
  },
  {
   "cell_type": "markdown",
   "id": "4de4428d",
   "metadata": {
    "id": "4de4428d"
   },
   "source": [
    "#### Alertas de Confirmação"
   ]
  },
  {
   "cell_type": "code",
   "execution_count": 5,
   "id": "8e24aa4c",
   "metadata": {
    "ExecuteTime": {
     "end_time": "2022-10-05T22:26:00.786741Z",
     "start_time": "2022-10-05T22:25:59.869052Z"
    },
    "id": "8e24aa4c"
   },
   "outputs": [
    {
     "ename": "NoAlertPresentException",
     "evalue": "Message: no such alert\n  (Session info: chrome=106.0.5249.91)\nStacktrace:\nBacktrace:\n\tOrdinal0 [0x00481ED3+2236115]\n\tOrdinal0 [0x004192F1+1807089]\n\tOrdinal0 [0x003265C0+812480]\n\tOrdinal0 [0x0031F7DB+784347]\n\tOrdinal0 [0x00338D72+888178]\n\tOrdinal0 [0x00371B04+1121028]\n\tOrdinal0 [0x00338742+886594]\n\tOrdinal0 [0x003718A6+1120422]\n\tOrdinal0 [0x0034A73D+960317]\n\tOrdinal0 [0x0034B71F+964383]\n\tGetHandleVerifier [0x0072E7E2+2743074]\n\tGetHandleVerifier [0x007208D4+2685972]\n\tGetHandleVerifier [0x00512BAA+532202]\n\tGetHandleVerifier [0x00511990+527568]\n\tOrdinal0 [0x0042080C+1837068]\n\tOrdinal0 [0x00424CD8+1854680]\n\tOrdinal0 [0x00424DC5+1854917]\n\tOrdinal0 [0x0042ED64+1895780]\n\tBaseThreadInitThunk [0x774D6739+25]\n\tRtlGetFullPathName_UEx [0x77E18FD2+1218]\n\tRtlGetFullPathName_UEx [0x77E18F9D+1165]\n",
     "output_type": "error",
     "traceback": [
      "\u001b[1;31m---------------------------------------------------------------------------\u001b[0m",
      "\u001b[1;31mNoAlertPresentException\u001b[0m                   Traceback (most recent call last)",
      "Input \u001b[1;32mIn [5]\u001b[0m, in \u001b[0;36m<cell line: 9>\u001b[1;34m()\u001b[0m\n\u001b[0;32m      6\u001b[0m alerta\u001b[38;5;241m.\u001b[39maccept()\n\u001b[0;32m      8\u001b[0m \u001b[38;5;66;03m# cancelar\u001b[39;00m\n\u001b[1;32m----> 9\u001b[0m \u001b[43malerta\u001b[49m\u001b[38;5;241;43m.\u001b[39;49m\u001b[43mdismiss\u001b[49m\u001b[43m(\u001b[49m\u001b[43m)\u001b[49m\n",
      "File \u001b[1;32m~\\anaconda3\\lib\\site-packages\\selenium\\webdriver\\common\\alert.py:72\u001b[0m, in \u001b[0;36mAlert.dismiss\u001b[1;34m(self)\u001b[0m\n\u001b[0;32m     68\u001b[0m \u001b[38;5;28;01mdef\u001b[39;00m \u001b[38;5;21mdismiss\u001b[39m(\u001b[38;5;28mself\u001b[39m):\n\u001b[0;32m     69\u001b[0m     \u001b[38;5;124;03m\"\"\"\u001b[39;00m\n\u001b[0;32m     70\u001b[0m \u001b[38;5;124;03m    Dismisses the alert available.\u001b[39;00m\n\u001b[0;32m     71\u001b[0m \u001b[38;5;124;03m    \"\"\"\u001b[39;00m\n\u001b[1;32m---> 72\u001b[0m     \u001b[38;5;28;43mself\u001b[39;49m\u001b[38;5;241;43m.\u001b[39;49m\u001b[43mdriver\u001b[49m\u001b[38;5;241;43m.\u001b[39;49m\u001b[43mexecute\u001b[49m\u001b[43m(\u001b[49m\u001b[43mCommand\u001b[49m\u001b[38;5;241;43m.\u001b[39;49m\u001b[43mW3C_DISMISS_ALERT\u001b[49m\u001b[43m)\u001b[49m\n",
      "File \u001b[1;32m~\\anaconda3\\lib\\site-packages\\selenium\\webdriver\\remote\\webdriver.py:428\u001b[0m, in \u001b[0;36mWebDriver.execute\u001b[1;34m(self, driver_command, params)\u001b[0m\n\u001b[0;32m    426\u001b[0m response \u001b[38;5;241m=\u001b[39m \u001b[38;5;28mself\u001b[39m\u001b[38;5;241m.\u001b[39mcommand_executor\u001b[38;5;241m.\u001b[39mexecute(driver_command, params)\n\u001b[0;32m    427\u001b[0m \u001b[38;5;28;01mif\u001b[39;00m response:\n\u001b[1;32m--> 428\u001b[0m     \u001b[38;5;28;43mself\u001b[39;49m\u001b[38;5;241;43m.\u001b[39;49m\u001b[43merror_handler\u001b[49m\u001b[38;5;241;43m.\u001b[39;49m\u001b[43mcheck_response\u001b[49m\u001b[43m(\u001b[49m\u001b[43mresponse\u001b[49m\u001b[43m)\u001b[49m\n\u001b[0;32m    429\u001b[0m     response[\u001b[38;5;124m'\u001b[39m\u001b[38;5;124mvalue\u001b[39m\u001b[38;5;124m'\u001b[39m] \u001b[38;5;241m=\u001b[39m \u001b[38;5;28mself\u001b[39m\u001b[38;5;241m.\u001b[39m_unwrap_value(\n\u001b[0;32m    430\u001b[0m         response\u001b[38;5;241m.\u001b[39mget(\u001b[38;5;124m'\u001b[39m\u001b[38;5;124mvalue\u001b[39m\u001b[38;5;124m'\u001b[39m, \u001b[38;5;28;01mNone\u001b[39;00m))\n\u001b[0;32m    431\u001b[0m     \u001b[38;5;28;01mreturn\u001b[39;00m response\n",
      "File \u001b[1;32m~\\anaconda3\\lib\\site-packages\\selenium\\webdriver\\remote\\errorhandler.py:243\u001b[0m, in \u001b[0;36mErrorHandler.check_response\u001b[1;34m(self, response)\u001b[0m\n\u001b[0;32m    241\u001b[0m         alert_text \u001b[38;5;241m=\u001b[39m value[\u001b[38;5;124m'\u001b[39m\u001b[38;5;124malert\u001b[39m\u001b[38;5;124m'\u001b[39m]\u001b[38;5;241m.\u001b[39mget(\u001b[38;5;124m'\u001b[39m\u001b[38;5;124mtext\u001b[39m\u001b[38;5;124m'\u001b[39m)\n\u001b[0;32m    242\u001b[0m     \u001b[38;5;28;01mraise\u001b[39;00m exception_class(message, screen, stacktrace, alert_text)  \u001b[38;5;66;03m# type: ignore[call-arg]  # mypy is not smart enough here\u001b[39;00m\n\u001b[1;32m--> 243\u001b[0m \u001b[38;5;28;01mraise\u001b[39;00m exception_class(message, screen, stacktrace)\n",
      "\u001b[1;31mNoAlertPresentException\u001b[0m: Message: no such alert\n  (Session info: chrome=106.0.5249.91)\nStacktrace:\nBacktrace:\n\tOrdinal0 [0x00481ED3+2236115]\n\tOrdinal0 [0x004192F1+1807089]\n\tOrdinal0 [0x003265C0+812480]\n\tOrdinal0 [0x0031F7DB+784347]\n\tOrdinal0 [0x00338D72+888178]\n\tOrdinal0 [0x00371B04+1121028]\n\tOrdinal0 [0x00338742+886594]\n\tOrdinal0 [0x003718A6+1120422]\n\tOrdinal0 [0x0034A73D+960317]\n\tOrdinal0 [0x0034B71F+964383]\n\tGetHandleVerifier [0x0072E7E2+2743074]\n\tGetHandleVerifier [0x007208D4+2685972]\n\tGetHandleVerifier [0x00512BAA+532202]\n\tGetHandleVerifier [0x00511990+527568]\n\tOrdinal0 [0x0042080C+1837068]\n\tOrdinal0 [0x00424CD8+1854680]\n\tOrdinal0 [0x00424DC5+1854917]\n\tOrdinal0 [0x0042ED64+1895780]\n\tBaseThreadInitThunk [0x774D6739+25]\n\tRtlGetFullPathName_UEx [0x77E18FD2+1218]\n\tRtlGetFullPathName_UEx [0x77E18F9D+1165]\n"
     ]
    }
   ],
   "source": [
    "navegador.find_element(By.XPATH, '/html/body/div[2]/input').click()\n",
    "\n",
    "alerta = Alert(navegador)\n",
    "\n",
    "# aceitar\n",
    "alerta.accept()\n",
    "\n",
    "# cancelar\n",
    "alerta.dismiss()"
   ]
  },
  {
   "cell_type": "code",
   "execution_count": null,
   "id": "siUGW3iPNNoe",
   "metadata": {
    "id": "siUGW3iPNNoe"
   },
   "outputs": [],
   "source": []
  },
  {
   "cell_type": "markdown",
   "id": "9b50482d",
   "metadata": {
    "id": "9b50482d"
   },
   "source": [
    "#### Pegar o texto do alerta"
   ]
  },
  {
   "cell_type": "code",
   "execution_count": null,
   "id": "025b7002",
   "metadata": {
    "id": "025b7002"
   },
   "outputs": [],
   "source": [
    "# navegador.find_element(By.XPATH, '/html/body/div[2]/input').click()\n",
    "\n",
    "alerta = Alert(navegador)\n",
    "texto = alerta.text\n",
    "print(texto)"
   ]
  },
  {
   "cell_type": "markdown",
   "id": "3d33f215",
   "metadata": {
    "id": "3d33f215"
   },
   "source": [
    "#### Alertas de Input"
   ]
  },
  {
   "cell_type": "code",
   "execution_count": null,
   "id": "675a16c0",
   "metadata": {
    "id": "675a16c0"
   },
   "outputs": [],
   "source": [
    "navegador.find_element(By.XPATH, '/html/body/div[3]/button').click()\n",
    "\n",
    "alerta = navegador.switch_to.alert\n",
    "time.sleep(2)"
   ]
  },
  {
   "cell_type": "code",
   "execution_count": null,
   "id": "05837e78",
   "metadata": {
    "id": "05837e78"
   },
   "outputs": [],
   "source": [
    "alerta.send_keys('123123') # lembre que ele funciona, apesar de não aparecer\n",
    "alerta.accept()"
   ]
  },
  {
   "cell_type": "code",
   "execution_count": null,
   "id": "4bf5635a",
   "metadata": {
    "id": "4bf5635a"
   },
   "outputs": [],
   "source": [
    "# alerta.accept()"
   ]
  }
 ],
 "metadata": {
  "colab": {
   "name": "Alertas.ipynb",
   "provenance": []
  },
  "kernelspec": {
   "display_name": "Python 3 (ipykernel)",
   "language": "python",
   "name": "python3"
  },
  "language_info": {
   "codemirror_mode": {
    "name": "ipython",
    "version": 3
   },
   "file_extension": ".py",
   "mimetype": "text/x-python",
   "name": "python",
   "nbconvert_exporter": "python",
   "pygments_lexer": "ipython3",
   "version": "3.9.12"
  }
 },
 "nbformat": 4,
 "nbformat_minor": 5
}
