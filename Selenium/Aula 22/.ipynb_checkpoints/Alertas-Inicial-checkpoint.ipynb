{
 "cells": [
  {
   "cell_type": "markdown",
   "id": "367cd714",
   "metadata": {},
   "source": [
    "### Documentação Selenium:\n",
    "\n",
    "- https://selenium-python.readthedocs.io/locating-elements.html"
   ]
  },
  {
   "cell_type": "code",
   "execution_count": 1,
   "id": "4e28f9f7",
   "metadata": {
    "ExecuteTime": {
     "end_time": "2022-10-04T21:21:23.365598Z",
     "start_time": "2022-10-04T21:21:19.959768Z"
    }
   },
   "outputs": [
    {
     "name": "stderr",
     "output_type": "stream",
     "text": [
      "[WDM] - Downloading: 100%|████████████████████████████████████████████████████████| 6.29M/6.29M [00:00<00:00, 81.3MB/s]\n"
     ]
    }
   ],
   "source": [
    "from selenium import webdriver\n",
    "from selenium.webdriver.chrome.service import Service\n",
    "from webdriver_manager.chrome import ChromeDriverManager\n",
    "from selenium.webdriver.common.by import By\n",
    "\n",
    "servico = Service(ChromeDriverManager().install())\n",
    "navegador = webdriver.Chrome(service=servico)"
   ]
  },
  {
   "cell_type": "code",
   "execution_count": 7,
   "id": "59c8398d",
   "metadata": {
    "ExecuteTime": {
     "end_time": "2022-10-04T21:34:50.160757Z",
     "start_time": "2022-10-04T21:34:50.144722Z"
    }
   },
   "outputs": [],
   "source": [
    "import os\n",
    "\n",
    "caminho = os.getcwd()\n",
    "arquivo = caminho + r\"\\alertas.html\"\n",
    "navegador.get(arquivo)"
   ]
  },
  {
   "cell_type": "markdown",
   "id": "7d964ce5",
   "metadata": {},
   "source": [
    "#### Alertas Básicos"
   ]
  },
  {
   "cell_type": "code",
   "execution_count": 12,
   "id": "09f60749",
   "metadata": {
    "ExecuteTime": {
     "end_time": "2022-10-04T21:35:46.716989Z",
     "start_time": "2022-10-04T21:35:46.694541Z"
    }
   },
   "outputs": [],
   "source": [
    "# selecionar um alerta\n",
    "navegador.find_element(By.XPATH,'/html/body/div[1]/input').click()"
   ]
  },
  {
   "cell_type": "code",
   "execution_count": 13,
   "id": "73fadceb",
   "metadata": {
    "ExecuteTime": {
     "end_time": "2022-10-04T21:35:48.875555Z",
     "start_time": "2022-10-04T21:35:48.871572Z"
    }
   },
   "outputs": [],
   "source": [
    "from selenium.webdriver.common.alert import Alert\n",
    "alerta = Alert(navegador)"
   ]
  },
  {
   "cell_type": "code",
   "execution_count": 14,
   "id": "30537925",
   "metadata": {
    "ExecuteTime": {
     "end_time": "2022-10-04T21:35:49.851490Z",
     "start_time": "2022-10-04T21:35:49.846734Z"
    }
   },
   "outputs": [],
   "source": [
    "alerta.accept()"
   ]
  },
  {
   "cell_type": "markdown",
   "id": "34631cac",
   "metadata": {},
   "source": [
    "#### Alertas de Confirmação"
   ]
  },
  {
   "cell_type": "code",
   "execution_count": 17,
   "id": "3594b247",
   "metadata": {
    "ExecuteTime": {
     "end_time": "2022-10-04T21:39:19.123554Z",
     "start_time": "2022-10-04T21:39:19.102870Z"
    }
   },
   "outputs": [],
   "source": [
    "# selecionar um alerta\n",
    "navegador.find_element(By.XPATH,'/html/body/div[2]/input').click()\n",
    "alerta = Alert(navegador)"
   ]
  },
  {
   "cell_type": "code",
   "execution_count": 16,
   "id": "7c163604",
   "metadata": {
    "ExecuteTime": {
     "end_time": "2022-10-04T21:39:16.292384Z",
     "start_time": "2022-10-04T21:39:16.287131Z"
    }
   },
   "outputs": [],
   "source": [
    "# aceitar\n",
    "alerta.accept()"
   ]
  },
  {
   "cell_type": "code",
   "execution_count": 18,
   "id": "c656438a",
   "metadata": {
    "ExecuteTime": {
     "end_time": "2022-10-04T21:39:21.571535Z",
     "start_time": "2022-10-04T21:39:21.567543Z"
    }
   },
   "outputs": [],
   "source": [
    "# cancelar\n",
    "alerta.dismiss()"
   ]
  },
  {
   "cell_type": "markdown",
   "id": "68a498a9",
   "metadata": {},
   "source": [
    "#### Pegar o texto do alerta"
   ]
  },
  {
   "cell_type": "code",
   "execution_count": 20,
   "id": "84f67d69",
   "metadata": {
    "ExecuteTime": {
     "end_time": "2022-10-04T21:41:05.936358Z",
     "start_time": "2022-10-04T21:41:05.913741Z"
    }
   },
   "outputs": [
    {
     "name": "stdout",
     "output_type": "stream",
     "text": [
      "Quer confirmar a emissão da NF?\n"
     ]
    }
   ],
   "source": [
    "navegador.find_element(By.XPATH,'/html/body/div[2]/input').click()\n",
    "alerta = Alert(navegador)\n",
    "\n",
    "texto = alerta.text\n",
    "print(texto)"
   ]
  },
  {
   "cell_type": "markdown",
   "id": "c8d5a4d8",
   "metadata": {},
   "source": [
    "#### Alertas de Input"
   ]
  },
  {
   "cell_type": "code",
   "execution_count": 26,
   "id": "79998e3f",
   "metadata": {
    "ExecuteTime": {
     "end_time": "2022-10-04T21:46:46.002269Z",
     "start_time": "2022-10-04T21:46:45.968681Z"
    }
   },
   "outputs": [],
   "source": [
    "navegador.find_element(By.XPATH,'/html/body/div[3]/button').click()\n",
    "alerta = Alert(navegador)"
   ]
  },
  {
   "cell_type": "code",
   "execution_count": 27,
   "id": "5eebaa32",
   "metadata": {
    "ExecuteTime": {
     "end_time": "2022-10-04T21:46:48.135295Z",
     "start_time": "2022-10-04T21:46:48.129859Z"
    }
   },
   "outputs": [],
   "source": [
    "alerta.send_keys('123456789-00')"
   ]
  },
  {
   "cell_type": "code",
   "execution_count": 28,
   "id": "69c2a6f7",
   "metadata": {
    "ExecuteTime": {
     "end_time": "2022-10-04T21:46:51.060632Z",
     "start_time": "2022-10-04T21:46:51.054818Z"
    }
   },
   "outputs": [],
   "source": [
    "alerta.accept()"
   ]
  },
  {
   "cell_type": "code",
   "execution_count": 29,
   "id": "aba8f959",
   "metadata": {
    "ExecuteTime": {
     "end_time": "2022-10-04T21:46:56.234609Z",
     "start_time": "2022-10-04T21:46:56.214693Z"
    }
   },
   "outputs": [
    {
     "name": "stdout",
     "output_type": "stream",
     "text": [
      "CPF: 123456789-00!! Loucura Loucura?\n"
     ]
    }
   ],
   "source": [
    "texto = navegador.find_element(By.XPATH,'//*[@id=\"msg\"]').text\n",
    "print(texto)"
   ]
  }
 ],
 "metadata": {
  "kernelspec": {
   "display_name": "Python 3 (ipykernel)",
   "language": "python",
   "name": "python3"
  },
  "language_info": {
   "codemirror_mode": {
    "name": "ipython",
    "version": 3
   },
   "file_extension": ".py",
   "mimetype": "text/x-python",
   "name": "python",
   "nbconvert_exporter": "python",
   "pygments_lexer": "ipython3",
   "version": "3.9.12"
  }
 },
 "nbformat": 4,
 "nbformat_minor": 5
}
