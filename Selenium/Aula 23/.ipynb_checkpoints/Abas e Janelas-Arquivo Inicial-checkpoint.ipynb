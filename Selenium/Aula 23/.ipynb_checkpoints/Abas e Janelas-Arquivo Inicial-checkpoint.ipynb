{
 "cells": [
  {
   "cell_type": "markdown",
   "id": "367cd714",
   "metadata": {
    "id": "367cd714"
   },
   "source": [
    "### Documentação Selenium:\n",
    "\n",
    "- https://selenium-python.readthedocs.io/locating-elements.html"
   ]
  },
  {
   "cell_type": "code",
   "execution_count": 14,
   "id": "4e28f9f7",
   "metadata": {
    "ExecuteTime": {
     "end_time": "2022-10-04T23:10:11.433417Z",
     "start_time": "2022-10-04T23:10:09.454660Z"
    },
    "id": "4e28f9f7"
   },
   "outputs": [],
   "source": [
    "from selenium import webdriver\n",
    "from selenium.webdriver.chrome.service import Service\n",
    "from webdriver_manager.chrome import ChromeDriverManager\n",
    "from selenium.webdriver.common.by import By\n",
    "\n",
    "servico = Service(ChromeDriverManager().install())\n",
    "navegador = webdriver.Chrome(service=servico)"
   ]
  },
  {
   "cell_type": "code",
   "execution_count": 15,
   "id": "59c8398d",
   "metadata": {
    "ExecuteTime": {
     "end_time": "2022-10-04T23:10:14.544601Z",
     "start_time": "2022-10-04T23:10:13.789526Z"
    },
    "id": "59c8398d"
   },
   "outputs": [],
   "source": [
    "import os\n",
    "\n",
    "caminho = os.getcwd()\n",
    "arquivo = caminho + r\"\\Pagina Hashtag.html\"\n",
    "navegador.get(arquivo)"
   ]
  },
  {
   "cell_type": "markdown",
   "id": "1a0d1ae6",
   "metadata": {
    "id": "1a0d1ae6"
   },
   "source": [
    "#### Botão que abre outra janela"
   ]
  },
  {
   "cell_type": "code",
   "execution_count": 16,
   "id": "d90ab797",
   "metadata": {
    "ExecuteTime": {
     "end_time": "2022-10-04T23:10:29.800093Z",
     "start_time": "2022-10-04T23:10:29.760816Z"
    },
    "id": "d90ab797"
   },
   "outputs": [],
   "source": [
    "navegador.find_element(By.XPATH, '/html/body/section[2]/div/div[6]/figure/a/img').click()"
   ]
  },
  {
   "cell_type": "code",
   "execution_count": null,
   "id": "4d6c93bf",
   "metadata": {
    "ExecuteTime": {
     "end_time": "2022-10-04T22:14:03.732937Z",
     "start_time": "2022-10-04T22:14:03.322657Z"
    },
    "id": "80d8ecac"
   },
   "outputs": [],
   "source": [
    "#preenchendo o formulário\n",
    "navegador.find_element(By.NAME, 'firstname').send_keys(\"Lira\")"
   ]
  },
  {
   "cell_type": "markdown",
   "id": "80f18fcd",
   "metadata": {
    "id": "80f18fcd"
   },
   "source": [
    "### Outra aba"
   ]
  },
  {
   "cell_type": "code",
   "execution_count": 17,
   "id": "dbac0005",
   "metadata": {
    "ExecuteTime": {
     "end_time": "2022-10-04T23:10:36.459355Z",
     "start_time": "2022-10-04T23:10:36.449287Z"
    },
    "id": "dbac0005"
   },
   "outputs": [],
   "source": [
    "aba_original = navegador.window_handles[0]\n",
    "nova_aba = navegador.window_handles[1]\n",
    "navegador.switch_to.window(nova_aba)"
   ]
  },
  {
   "cell_type": "code",
   "execution_count": 18,
   "id": "649eb481",
   "metadata": {
    "ExecuteTime": {
     "end_time": "2022-10-04T23:10:38.774782Z",
     "start_time": "2022-10-04T23:10:38.696389Z"
    }
   },
   "outputs": [],
   "source": [
    "navegador.find_element(By.NAME, 'firstname').send_keys(\"Lira\")\n",
    "navegador.find_element(By.NAME, 'email').send_keys(\"lira@lira.com\")"
   ]
  },
  {
   "cell_type": "code",
   "execution_count": 19,
   "id": "cf710896",
   "metadata": {
    "ExecuteTime": {
     "end_time": "2022-10-04T23:10:43.091274Z",
     "start_time": "2022-10-04T23:10:43.031339Z"
    }
   },
   "outputs": [],
   "source": [
    "navegador.switch_to.window(aba_original)\n",
    "navegador.find_element(By.XPATH, '/html/body/section[2]/div/div[4]/figure/a/img').click()"
   ]
  },
  {
   "cell_type": "code",
   "execution_count": 20,
   "id": "129024f8",
   "metadata": {
    "ExecuteTime": {
     "end_time": "2022-10-04T23:10:49.458818Z",
     "start_time": "2022-10-04T23:10:49.406595Z"
    }
   },
   "outputs": [
    {
     "name": "stdout",
     "output_type": "stream",
     "text": [
      "Todos os Cursos Hashtag Treinamentos\n",
      "Curso Power BI Avançado | Projetos Reais e +80h de Conteúdo\n",
      "Curso de Excel Online Avançado, Completo e Com Certificado!\n"
     ]
    }
   ],
   "source": [
    "#ver os titulos de todas as abas\n",
    "for aba in navegador.window_handles:\n",
    "    navegador.switch_to.window(aba)\n",
    "    print(navegador.title)"
   ]
  },
  {
   "cell_type": "markdown",
   "id": "16053597",
   "metadata": {
    "id": "16053597"
   },
   "source": [
    "### Outra janela"
   ]
  },
  {
   "cell_type": "code",
   "execution_count": 21,
   "id": "f79746e1",
   "metadata": {
    "ExecuteTime": {
     "end_time": "2022-10-04T23:11:09.912233Z",
     "start_time": "2022-10-04T23:11:09.905235Z"
    },
    "id": "f79746e1",
    "scrolled": true
   },
   "outputs": [
    {
     "name": "stdout",
     "output_type": "stream",
     "text": [
      "4\n"
     ]
    }
   ],
   "source": [
    "lista_abas = navegador.window_handles\n",
    "print(len(lista_abas))"
   ]
  },
  {
   "cell_type": "code",
   "execution_count": 22,
   "id": "416877fb",
   "metadata": {
    "ExecuteTime": {
     "end_time": "2022-10-04T23:11:13.964116Z",
     "start_time": "2022-10-04T23:11:13.871709Z"
    }
   },
   "outputs": [],
   "source": [
    "aba_sql = navegador.window_handles[3]\n",
    "navegador.switch_to.window(aba_sql)\n",
    "navegador.find_element(By.NAME, 'firstname').send_keys(\"LiraSQL\")\n",
    "navegador.find_element(By.NAME, 'email').send_keys(\"sql@lira.com\")"
   ]
  },
  {
   "cell_type": "code",
   "execution_count": 23,
   "id": "2d6ea449",
   "metadata": {
    "ExecuteTime": {
     "end_time": "2022-10-04T23:11:44.509723Z",
     "start_time": "2022-10-04T23:11:42.379191Z"
    }
   },
   "outputs": [],
   "source": [
    "#fecha a aba atual\n",
    "navegador.close()\n",
    "\n",
    "#voltar para o outro browser aberto\n",
    "navegador.switch_to.window(aba_original)\n",
    "\n",
    "#fecha todas as abas do browser\n",
    "navegador.quit()"
   ]
  }
 ],
 "metadata": {
  "colab": {
   "name": "Abas e Janelas-Arquivo Inicial.ipynb",
   "provenance": []
  },
  "kernelspec": {
   "display_name": "Python 3 (ipykernel)",
   "language": "python",
   "name": "python3"
  },
  "language_info": {
   "codemirror_mode": {
    "name": "ipython",
    "version": 3
   },
   "file_extension": ".py",
   "mimetype": "text/x-python",
   "name": "python",
   "nbconvert_exporter": "python",
   "pygments_lexer": "ipython3",
   "version": "3.9.12"
  }
 },
 "nbformat": 4,
 "nbformat_minor": 5
}
