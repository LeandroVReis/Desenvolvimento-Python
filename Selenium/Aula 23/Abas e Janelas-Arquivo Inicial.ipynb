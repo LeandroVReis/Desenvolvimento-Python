{
 "cells": [
  {
   "cell_type": "markdown",
   "id": "367cd714",
   "metadata": {
    "id": "367cd714"
   },
   "source": [
    "### Documentação Selenium:\n",
    "\n",
    "- https://selenium-python.readthedocs.io/locating-elements.html"
   ]
  },
  {
   "cell_type": "code",
   "execution_count": 1,
   "id": "4e28f9f7",
   "metadata": {
    "ExecuteTime": {
     "end_time": "2022-10-05T22:29:10.463447Z",
     "start_time": "2022-10-05T22:29:08.242764Z"
    },
    "id": "4e28f9f7"
   },
   "outputs": [],
   "source": [
    "from selenium import webdriver\n",
    "from selenium.webdriver.chrome.service import Service\n",
    "from webdriver_manager.chrome import ChromeDriverManager\n",
    "from selenium.webdriver.common.by import By\n",
    "\n",
    "servico = Service(ChromeDriverManager().install())\n",
    "navegador = webdriver.Chrome(service=servico)"
   ]
  },
  {
   "cell_type": "code",
   "execution_count": 2,
   "id": "59c8398d",
   "metadata": {
    "ExecuteTime": {
     "end_time": "2022-10-05T22:29:15.091627Z",
     "start_time": "2022-10-05T22:29:14.279285Z"
    },
    "id": "59c8398d"
   },
   "outputs": [],
   "source": [
    "import os\n",
    "\n",
    "caminho = os.getcwd()\n",
    "arquivo = caminho + r\"\\Pagina Hashtag.html\"\n",
    "navegador.get(arquivo)"
   ]
  },
  {
   "cell_type": "markdown",
   "id": "1a0d1ae6",
   "metadata": {
    "id": "1a0d1ae6"
   },
   "source": [
    "#### Botão que abre outra janela"
   ]
  },
  {
   "cell_type": "code",
   "execution_count": 3,
   "id": "d90ab797",
   "metadata": {
    "ExecuteTime": {
     "end_time": "2022-10-05T22:29:23.557532Z",
     "start_time": "2022-10-05T22:29:23.478165Z"
    },
    "id": "d90ab797"
   },
   "outputs": [],
   "source": [
    "navegador.find_element(By.XPATH, '/html/body/section[2]/div/div[6]/figure/a/img').click()"
   ]
  },
  {
   "cell_type": "code",
   "execution_count": 4,
   "id": "4d6c93bf",
   "metadata": {
    "ExecuteTime": {
     "end_time": "2022-10-05T22:29:31.873374Z",
     "start_time": "2022-10-05T22:29:31.172704Z"
    },
    "id": "80d8ecac"
   },
   "outputs": [
    {
     "ename": "NoSuchElementException",
     "evalue": "Message: no such element: Unable to locate element: {\"method\":\"css selector\",\"selector\":\"[name=\"firstname\"]\"}\n  (Session info: chrome=106.0.5249.91)\nStacktrace:\nBacktrace:\n\tOrdinal0 [0x00481ED3+2236115]\n\tOrdinal0 [0x004192F1+1807089]\n\tOrdinal0 [0x003266FD+812797]\n\tOrdinal0 [0x003555DF+1005023]\n\tOrdinal0 [0x003557CB+1005515]\n\tOrdinal0 [0x00387632+1209906]\n\tOrdinal0 [0x00371AD4+1120980]\n\tOrdinal0 [0x003859E2+1202658]\n\tOrdinal0 [0x003718A6+1120422]\n\tOrdinal0 [0x0034A73D+960317]\n\tOrdinal0 [0x0034B71F+964383]\n\tGetHandleVerifier [0x0072E7E2+2743074]\n\tGetHandleVerifier [0x007208D4+2685972]\n\tGetHandleVerifier [0x00512BAA+532202]\n\tGetHandleVerifier [0x00511990+527568]\n\tOrdinal0 [0x0042080C+1837068]\n\tOrdinal0 [0x00424CD8+1854680]\n\tOrdinal0 [0x00424DC5+1854917]\n\tOrdinal0 [0x0042ED64+1895780]\n\tBaseThreadInitThunk [0x774D6739+25]\n\tRtlGetFullPathName_UEx [0x77E18FD2+1218]\n\tRtlGetFullPathName_UEx [0x77E18F9D+1165]\n",
     "output_type": "error",
     "traceback": [
      "\u001b[1;31m---------------------------------------------------------------------------\u001b[0m",
      "\u001b[1;31mNoSuchElementException\u001b[0m                    Traceback (most recent call last)",
      "Input \u001b[1;32mIn [4]\u001b[0m, in \u001b[0;36m<cell line: 2>\u001b[1;34m()\u001b[0m\n\u001b[0;32m      1\u001b[0m \u001b[38;5;66;03m#preenchendo o formulário\u001b[39;00m\n\u001b[1;32m----> 2\u001b[0m \u001b[43mnavegador\u001b[49m\u001b[38;5;241;43m.\u001b[39;49m\u001b[43mfind_element\u001b[49m\u001b[43m(\u001b[49m\u001b[43mBy\u001b[49m\u001b[38;5;241;43m.\u001b[39;49m\u001b[43mNAME\u001b[49m\u001b[43m,\u001b[49m\u001b[43m \u001b[49m\u001b[38;5;124;43m'\u001b[39;49m\u001b[38;5;124;43mfirstname\u001b[39;49m\u001b[38;5;124;43m'\u001b[39;49m\u001b[43m)\u001b[49m\u001b[38;5;241m.\u001b[39msend_keys(\u001b[38;5;124m\"\u001b[39m\u001b[38;5;124mLira\u001b[39m\u001b[38;5;124m\"\u001b[39m)\n",
      "File \u001b[1;32m~\\anaconda3\\lib\\site-packages\\selenium\\webdriver\\remote\\webdriver.py:855\u001b[0m, in \u001b[0;36mWebDriver.find_element\u001b[1;34m(self, by, value)\u001b[0m\n\u001b[0;32m    852\u001b[0m     by \u001b[38;5;241m=\u001b[39m By\u001b[38;5;241m.\u001b[39mCSS_SELECTOR\n\u001b[0;32m    853\u001b[0m     value \u001b[38;5;241m=\u001b[39m \u001b[38;5;124m'\u001b[39m\u001b[38;5;124m[name=\u001b[39m\u001b[38;5;124m\"\u001b[39m\u001b[38;5;132;01m%s\u001b[39;00m\u001b[38;5;124m\"\u001b[39m\u001b[38;5;124m]\u001b[39m\u001b[38;5;124m'\u001b[39m \u001b[38;5;241m%\u001b[39m value\n\u001b[1;32m--> 855\u001b[0m \u001b[38;5;28;01mreturn\u001b[39;00m \u001b[38;5;28;43mself\u001b[39;49m\u001b[38;5;241;43m.\u001b[39;49m\u001b[43mexecute\u001b[49m\u001b[43m(\u001b[49m\u001b[43mCommand\u001b[49m\u001b[38;5;241;43m.\u001b[39;49m\u001b[43mFIND_ELEMENT\u001b[49m\u001b[43m,\u001b[49m\u001b[43m \u001b[49m\u001b[43m{\u001b[49m\n\u001b[0;32m    856\u001b[0m \u001b[43m    \u001b[49m\u001b[38;5;124;43m'\u001b[39;49m\u001b[38;5;124;43musing\u001b[39;49m\u001b[38;5;124;43m'\u001b[39;49m\u001b[43m:\u001b[49m\u001b[43m \u001b[49m\u001b[43mby\u001b[49m\u001b[43m,\u001b[49m\n\u001b[0;32m    857\u001b[0m \u001b[43m    \u001b[49m\u001b[38;5;124;43m'\u001b[39;49m\u001b[38;5;124;43mvalue\u001b[39;49m\u001b[38;5;124;43m'\u001b[39;49m\u001b[43m:\u001b[49m\u001b[43m \u001b[49m\u001b[43mvalue\u001b[49m\u001b[43m}\u001b[49m\u001b[43m)\u001b[49m[\u001b[38;5;124m'\u001b[39m\u001b[38;5;124mvalue\u001b[39m\u001b[38;5;124m'\u001b[39m]\n",
      "File \u001b[1;32m~\\anaconda3\\lib\\site-packages\\selenium\\webdriver\\remote\\webdriver.py:428\u001b[0m, in \u001b[0;36mWebDriver.execute\u001b[1;34m(self, driver_command, params)\u001b[0m\n\u001b[0;32m    426\u001b[0m response \u001b[38;5;241m=\u001b[39m \u001b[38;5;28mself\u001b[39m\u001b[38;5;241m.\u001b[39mcommand_executor\u001b[38;5;241m.\u001b[39mexecute(driver_command, params)\n\u001b[0;32m    427\u001b[0m \u001b[38;5;28;01mif\u001b[39;00m response:\n\u001b[1;32m--> 428\u001b[0m     \u001b[38;5;28;43mself\u001b[39;49m\u001b[38;5;241;43m.\u001b[39;49m\u001b[43merror_handler\u001b[49m\u001b[38;5;241;43m.\u001b[39;49m\u001b[43mcheck_response\u001b[49m\u001b[43m(\u001b[49m\u001b[43mresponse\u001b[49m\u001b[43m)\u001b[49m\n\u001b[0;32m    429\u001b[0m     response[\u001b[38;5;124m'\u001b[39m\u001b[38;5;124mvalue\u001b[39m\u001b[38;5;124m'\u001b[39m] \u001b[38;5;241m=\u001b[39m \u001b[38;5;28mself\u001b[39m\u001b[38;5;241m.\u001b[39m_unwrap_value(\n\u001b[0;32m    430\u001b[0m         response\u001b[38;5;241m.\u001b[39mget(\u001b[38;5;124m'\u001b[39m\u001b[38;5;124mvalue\u001b[39m\u001b[38;5;124m'\u001b[39m, \u001b[38;5;28;01mNone\u001b[39;00m))\n\u001b[0;32m    431\u001b[0m     \u001b[38;5;28;01mreturn\u001b[39;00m response\n",
      "File \u001b[1;32m~\\anaconda3\\lib\\site-packages\\selenium\\webdriver\\remote\\errorhandler.py:243\u001b[0m, in \u001b[0;36mErrorHandler.check_response\u001b[1;34m(self, response)\u001b[0m\n\u001b[0;32m    241\u001b[0m         alert_text \u001b[38;5;241m=\u001b[39m value[\u001b[38;5;124m'\u001b[39m\u001b[38;5;124malert\u001b[39m\u001b[38;5;124m'\u001b[39m]\u001b[38;5;241m.\u001b[39mget(\u001b[38;5;124m'\u001b[39m\u001b[38;5;124mtext\u001b[39m\u001b[38;5;124m'\u001b[39m)\n\u001b[0;32m    242\u001b[0m     \u001b[38;5;28;01mraise\u001b[39;00m exception_class(message, screen, stacktrace, alert_text)  \u001b[38;5;66;03m# type: ignore[call-arg]  # mypy is not smart enough here\u001b[39;00m\n\u001b[1;32m--> 243\u001b[0m \u001b[38;5;28;01mraise\u001b[39;00m exception_class(message, screen, stacktrace)\n",
      "\u001b[1;31mNoSuchElementException\u001b[0m: Message: no such element: Unable to locate element: {\"method\":\"css selector\",\"selector\":\"[name=\"firstname\"]\"}\n  (Session info: chrome=106.0.5249.91)\nStacktrace:\nBacktrace:\n\tOrdinal0 [0x00481ED3+2236115]\n\tOrdinal0 [0x004192F1+1807089]\n\tOrdinal0 [0x003266FD+812797]\n\tOrdinal0 [0x003555DF+1005023]\n\tOrdinal0 [0x003557CB+1005515]\n\tOrdinal0 [0x00387632+1209906]\n\tOrdinal0 [0x00371AD4+1120980]\n\tOrdinal0 [0x003859E2+1202658]\n\tOrdinal0 [0x003718A6+1120422]\n\tOrdinal0 [0x0034A73D+960317]\n\tOrdinal0 [0x0034B71F+964383]\n\tGetHandleVerifier [0x0072E7E2+2743074]\n\tGetHandleVerifier [0x007208D4+2685972]\n\tGetHandleVerifier [0x00512BAA+532202]\n\tGetHandleVerifier [0x00511990+527568]\n\tOrdinal0 [0x0042080C+1837068]\n\tOrdinal0 [0x00424CD8+1854680]\n\tOrdinal0 [0x00424DC5+1854917]\n\tOrdinal0 [0x0042ED64+1895780]\n\tBaseThreadInitThunk [0x774D6739+25]\n\tRtlGetFullPathName_UEx [0x77E18FD2+1218]\n\tRtlGetFullPathName_UEx [0x77E18F9D+1165]\n"
     ]
    }
   ],
   "source": [
    "#preenchendo o formulário\n",
    "navegador.find_element(By.NAME, 'firstname').send_keys(\"Lira\")"
   ]
  },
  {
   "cell_type": "markdown",
   "id": "80f18fcd",
   "metadata": {
    "id": "80f18fcd"
   },
   "source": [
    "### Outra aba"
   ]
  },
  {
   "cell_type": "code",
   "execution_count": 5,
   "id": "dbac0005",
   "metadata": {
    "ExecuteTime": {
     "end_time": "2022-10-05T22:29:50.793063Z",
     "start_time": "2022-10-05T22:29:50.780897Z"
    },
    "id": "dbac0005"
   },
   "outputs": [],
   "source": [
    "aba_original = navegador.window_handles[0]\n",
    "nova_aba = navegador.window_handles[1]\n",
    "navegador.switch_to.window(nova_aba)"
   ]
  },
  {
   "cell_type": "code",
   "execution_count": 6,
   "id": "649eb481",
   "metadata": {
    "ExecuteTime": {
     "end_time": "2022-10-05T22:29:56.579238Z",
     "start_time": "2022-10-05T22:29:56.398895Z"
    }
   },
   "outputs": [],
   "source": [
    "navegador.find_element(By.NAME, 'firstname').send_keys(\"Lira\")\n",
    "navegador.find_element(By.NAME, 'email').send_keys(\"lira@lira.com\")"
   ]
  },
  {
   "cell_type": "code",
   "execution_count": 7,
   "id": "cf710896",
   "metadata": {
    "ExecuteTime": {
     "end_time": "2022-10-05T22:30:16.921924Z",
     "start_time": "2022-10-05T22:30:15.598334Z"
    }
   },
   "outputs": [
    {
     "ename": "ElementClickInterceptedException",
     "evalue": "Message: element click intercepted: Element <img src=\"./Pagina Hashtag_files/Box-Excel-Impressionador-1024x576.png.webp\" alt=\"Todos os Cursos da Hashtag- Excel Impressionador\" class=\"wp-image-13725 lazyloaded\" width=\"512\" height=\"288\" sizes=\"(max-width: 512px) 100vw, 512px\" srcset=\"https://www.hashtagtreinamentos.com/wp-content/uploads/2021/08/Box-Excel-Impressionador-1024x576.png.webp 1024w,https://www.hashtagtreinamentos.com/wp-content/uploads/2021/08/Box-Excel-Impressionador-300x169.png.webp 300w,https://www.hashtagtreinamentos.com/wp-content/uploads/2021/08/Box-Excel-Impressionador-768x432.png.webp 768w,https://www.hashtagtreinamentos.com/wp-content/uploads/2021/08/Box-Excel-Impressionador.png.webp 1280w\" data-ll-status=\"loaded\"> is not clickable at point (356, 87). Other element would receive the click: <div class=\"logo col-md-2 col-6 align-self-center\">...</div>\n  (Session info: chrome=106.0.5249.91)\nStacktrace:\nBacktrace:\n\tOrdinal0 [0x00481ED3+2236115]\n\tOrdinal0 [0x004192F1+1807089]\n\tOrdinal0 [0x003266FD+812797]\n\tOrdinal0 [0x0035BEC7+1031879]\n\tOrdinal0 [0x00359E6C+1023596]\n\tOrdinal0 [0x00357A5B+1014363]\n\tOrdinal0 [0x003566E7+1009383]\n\tOrdinal0 [0x0034C416+967702]\n\tOrdinal0 [0x00371A8C+1120908]\n\tOrdinal0 [0x0034BD84+966020]\n\tOrdinal0 [0x00371CA4+1121444]\n\tOrdinal0 [0x003859E2+1202658]\n\tOrdinal0 [0x003718A6+1120422]\n\tOrdinal0 [0x0034A73D+960317]\n\tOrdinal0 [0x0034B71F+964383]\n\tGetHandleVerifier [0x0072E7E2+2743074]\n\tGetHandleVerifier [0x007208D4+2685972]\n\tGetHandleVerifier [0x00512BAA+532202]\n\tGetHandleVerifier [0x00511990+527568]\n\tOrdinal0 [0x0042080C+1837068]\n\tOrdinal0 [0x00424CD8+1854680]\n\tOrdinal0 [0x00424DC5+1854917]\n\tOrdinal0 [0x0042ED64+1895780]\n\tBaseThreadInitThunk [0x774D6739+25]\n\tRtlGetFullPathName_UEx [0x77E18FD2+1218]\n\tRtlGetFullPathName_UEx [0x77E18F9D+1165]\n",
     "output_type": "error",
     "traceback": [
      "\u001b[1;31m---------------------------------------------------------------------------\u001b[0m",
      "\u001b[1;31mElementClickInterceptedException\u001b[0m          Traceback (most recent call last)",
      "Input \u001b[1;32mIn [7]\u001b[0m, in \u001b[0;36m<cell line: 2>\u001b[1;34m()\u001b[0m\n\u001b[0;32m      1\u001b[0m navegador\u001b[38;5;241m.\u001b[39mswitch_to\u001b[38;5;241m.\u001b[39mwindow(aba_original)\n\u001b[1;32m----> 2\u001b[0m \u001b[43mnavegador\u001b[49m\u001b[38;5;241;43m.\u001b[39;49m\u001b[43mfind_element\u001b[49m\u001b[43m(\u001b[49m\u001b[43mBy\u001b[49m\u001b[38;5;241;43m.\u001b[39;49m\u001b[43mXPATH\u001b[49m\u001b[43m,\u001b[49m\u001b[43m \u001b[49m\u001b[38;5;124;43m'\u001b[39;49m\u001b[38;5;124;43m/html/body/section[2]/div/div[4]/figure/a/img\u001b[39;49m\u001b[38;5;124;43m'\u001b[39;49m\u001b[43m)\u001b[49m\u001b[38;5;241;43m.\u001b[39;49m\u001b[43mclick\u001b[49m\u001b[43m(\u001b[49m\u001b[43m)\u001b[49m\n",
      "File \u001b[1;32m~\\anaconda3\\lib\\site-packages\\selenium\\webdriver\\remote\\webelement.py:88\u001b[0m, in \u001b[0;36mWebElement.click\u001b[1;34m(self)\u001b[0m\n\u001b[0;32m     86\u001b[0m \u001b[38;5;28;01mdef\u001b[39;00m \u001b[38;5;21mclick\u001b[39m(\u001b[38;5;28mself\u001b[39m) \u001b[38;5;241m-\u001b[39m\u001b[38;5;241m>\u001b[39m \u001b[38;5;28;01mNone\u001b[39;00m:\n\u001b[0;32m     87\u001b[0m     \u001b[38;5;124;03m\"\"\"Clicks the element.\"\"\"\u001b[39;00m\n\u001b[1;32m---> 88\u001b[0m     \u001b[38;5;28;43mself\u001b[39;49m\u001b[38;5;241;43m.\u001b[39;49m\u001b[43m_execute\u001b[49m\u001b[43m(\u001b[49m\u001b[43mCommand\u001b[49m\u001b[38;5;241;43m.\u001b[39;49m\u001b[43mCLICK_ELEMENT\u001b[49m\u001b[43m)\u001b[49m\n",
      "File \u001b[1;32m~\\anaconda3\\lib\\site-packages\\selenium\\webdriver\\remote\\webelement.py:396\u001b[0m, in \u001b[0;36mWebElement._execute\u001b[1;34m(self, command, params)\u001b[0m\n\u001b[0;32m    394\u001b[0m     params \u001b[38;5;241m=\u001b[39m {}\n\u001b[0;32m    395\u001b[0m params[\u001b[38;5;124m'\u001b[39m\u001b[38;5;124mid\u001b[39m\u001b[38;5;124m'\u001b[39m] \u001b[38;5;241m=\u001b[39m \u001b[38;5;28mself\u001b[39m\u001b[38;5;241m.\u001b[39m_id\n\u001b[1;32m--> 396\u001b[0m \u001b[38;5;28;01mreturn\u001b[39;00m \u001b[38;5;28;43mself\u001b[39;49m\u001b[38;5;241;43m.\u001b[39;49m\u001b[43m_parent\u001b[49m\u001b[38;5;241;43m.\u001b[39;49m\u001b[43mexecute\u001b[49m\u001b[43m(\u001b[49m\u001b[43mcommand\u001b[49m\u001b[43m,\u001b[49m\u001b[43m \u001b[49m\u001b[43mparams\u001b[49m\u001b[43m)\u001b[49m\n",
      "File \u001b[1;32m~\\anaconda3\\lib\\site-packages\\selenium\\webdriver\\remote\\webdriver.py:428\u001b[0m, in \u001b[0;36mWebDriver.execute\u001b[1;34m(self, driver_command, params)\u001b[0m\n\u001b[0;32m    426\u001b[0m response \u001b[38;5;241m=\u001b[39m \u001b[38;5;28mself\u001b[39m\u001b[38;5;241m.\u001b[39mcommand_executor\u001b[38;5;241m.\u001b[39mexecute(driver_command, params)\n\u001b[0;32m    427\u001b[0m \u001b[38;5;28;01mif\u001b[39;00m response:\n\u001b[1;32m--> 428\u001b[0m     \u001b[38;5;28;43mself\u001b[39;49m\u001b[38;5;241;43m.\u001b[39;49m\u001b[43merror_handler\u001b[49m\u001b[38;5;241;43m.\u001b[39;49m\u001b[43mcheck_response\u001b[49m\u001b[43m(\u001b[49m\u001b[43mresponse\u001b[49m\u001b[43m)\u001b[49m\n\u001b[0;32m    429\u001b[0m     response[\u001b[38;5;124m'\u001b[39m\u001b[38;5;124mvalue\u001b[39m\u001b[38;5;124m'\u001b[39m] \u001b[38;5;241m=\u001b[39m \u001b[38;5;28mself\u001b[39m\u001b[38;5;241m.\u001b[39m_unwrap_value(\n\u001b[0;32m    430\u001b[0m         response\u001b[38;5;241m.\u001b[39mget(\u001b[38;5;124m'\u001b[39m\u001b[38;5;124mvalue\u001b[39m\u001b[38;5;124m'\u001b[39m, \u001b[38;5;28;01mNone\u001b[39;00m))\n\u001b[0;32m    431\u001b[0m     \u001b[38;5;28;01mreturn\u001b[39;00m response\n",
      "File \u001b[1;32m~\\anaconda3\\lib\\site-packages\\selenium\\webdriver\\remote\\errorhandler.py:243\u001b[0m, in \u001b[0;36mErrorHandler.check_response\u001b[1;34m(self, response)\u001b[0m\n\u001b[0;32m    241\u001b[0m         alert_text \u001b[38;5;241m=\u001b[39m value[\u001b[38;5;124m'\u001b[39m\u001b[38;5;124malert\u001b[39m\u001b[38;5;124m'\u001b[39m]\u001b[38;5;241m.\u001b[39mget(\u001b[38;5;124m'\u001b[39m\u001b[38;5;124mtext\u001b[39m\u001b[38;5;124m'\u001b[39m)\n\u001b[0;32m    242\u001b[0m     \u001b[38;5;28;01mraise\u001b[39;00m exception_class(message, screen, stacktrace, alert_text)  \u001b[38;5;66;03m# type: ignore[call-arg]  # mypy is not smart enough here\u001b[39;00m\n\u001b[1;32m--> 243\u001b[0m \u001b[38;5;28;01mraise\u001b[39;00m exception_class(message, screen, stacktrace)\n",
      "\u001b[1;31mElementClickInterceptedException\u001b[0m: Message: element click intercepted: Element <img src=\"./Pagina Hashtag_files/Box-Excel-Impressionador-1024x576.png.webp\" alt=\"Todos os Cursos da Hashtag- Excel Impressionador\" class=\"wp-image-13725 lazyloaded\" width=\"512\" height=\"288\" sizes=\"(max-width: 512px) 100vw, 512px\" srcset=\"https://www.hashtagtreinamentos.com/wp-content/uploads/2021/08/Box-Excel-Impressionador-1024x576.png.webp 1024w,https://www.hashtagtreinamentos.com/wp-content/uploads/2021/08/Box-Excel-Impressionador-300x169.png.webp 300w,https://www.hashtagtreinamentos.com/wp-content/uploads/2021/08/Box-Excel-Impressionador-768x432.png.webp 768w,https://www.hashtagtreinamentos.com/wp-content/uploads/2021/08/Box-Excel-Impressionador.png.webp 1280w\" data-ll-status=\"loaded\"> is not clickable at point (356, 87). Other element would receive the click: <div class=\"logo col-md-2 col-6 align-self-center\">...</div>\n  (Session info: chrome=106.0.5249.91)\nStacktrace:\nBacktrace:\n\tOrdinal0 [0x00481ED3+2236115]\n\tOrdinal0 [0x004192F1+1807089]\n\tOrdinal0 [0x003266FD+812797]\n\tOrdinal0 [0x0035BEC7+1031879]\n\tOrdinal0 [0x00359E6C+1023596]\n\tOrdinal0 [0x00357A5B+1014363]\n\tOrdinal0 [0x003566E7+1009383]\n\tOrdinal0 [0x0034C416+967702]\n\tOrdinal0 [0x00371A8C+1120908]\n\tOrdinal0 [0x0034BD84+966020]\n\tOrdinal0 [0x00371CA4+1121444]\n\tOrdinal0 [0x003859E2+1202658]\n\tOrdinal0 [0x003718A6+1120422]\n\tOrdinal0 [0x0034A73D+960317]\n\tOrdinal0 [0x0034B71F+964383]\n\tGetHandleVerifier [0x0072E7E2+2743074]\n\tGetHandleVerifier [0x007208D4+2685972]\n\tGetHandleVerifier [0x00512BAA+532202]\n\tGetHandleVerifier [0x00511990+527568]\n\tOrdinal0 [0x0042080C+1837068]\n\tOrdinal0 [0x00424CD8+1854680]\n\tOrdinal0 [0x00424DC5+1854917]\n\tOrdinal0 [0x0042ED64+1895780]\n\tBaseThreadInitThunk [0x774D6739+25]\n\tRtlGetFullPathName_UEx [0x77E18FD2+1218]\n\tRtlGetFullPathName_UEx [0x77E18F9D+1165]\n"
     ]
    }
   ],
   "source": [
    "navegador.switch_to.window(aba_original)\n",
    "navegador.find_element(By.XPATH, '/html/body/section[2]/div/div[4]/figure/a/img').click()"
   ]
  },
  {
   "cell_type": "code",
   "execution_count": 8,
   "id": "129024f8",
   "metadata": {
    "ExecuteTime": {
     "end_time": "2022-10-05T22:30:24.269013Z",
     "start_time": "2022-10-05T22:30:24.228463Z"
    }
   },
   "outputs": [
    {
     "name": "stdout",
     "output_type": "stream",
     "text": [
      "Todos os Cursos Hashtag Treinamentos\n",
      "Curso Power BI Avançado | Projetos Reais e +80h de Conteúdo\n"
     ]
    }
   ],
   "source": [
    "#ver os titulos de todas as abas\n",
    "for aba in navegador.window_handles:\n",
    "    navegador.switch_to.window(aba)\n",
    "    print(navegador.title)"
   ]
  },
  {
   "cell_type": "markdown",
   "id": "16053597",
   "metadata": {
    "id": "16053597"
   },
   "source": [
    "### Outra janela"
   ]
  },
  {
   "cell_type": "code",
   "execution_count": 10,
   "id": "f79746e1",
   "metadata": {
    "ExecuteTime": {
     "end_time": "2022-10-05T22:30:57.947624Z",
     "start_time": "2022-10-05T22:30:57.935623Z"
    },
    "id": "f79746e1",
    "scrolled": true
   },
   "outputs": [
    {
     "name": "stdout",
     "output_type": "stream",
     "text": [
      "3\n"
     ]
    }
   ],
   "source": [
    "lista_abas = navegador.window_handles\n",
    "print(len(lista_abas))"
   ]
  },
  {
   "cell_type": "code",
   "execution_count": 12,
   "id": "416877fb",
   "metadata": {
    "ExecuteTime": {
     "end_time": "2022-10-05T22:31:12.196066Z",
     "start_time": "2022-10-05T22:31:12.012636Z"
    }
   },
   "outputs": [],
   "source": [
    "aba_sql = navegador.window_handles[2]\n",
    "navegador.switch_to.window(aba_sql)\n",
    "navegador.find_element(By.NAME, 'firstname').send_keys(\"LiraSQL\")\n",
    "navegador.find_element(By.NAME, 'email').send_keys(\"sql@lira.com\")"
   ]
  },
  {
   "cell_type": "code",
   "execution_count": 13,
   "id": "2d6ea449",
   "metadata": {
    "ExecuteTime": {
     "end_time": "2022-10-05T22:31:28.696001Z",
     "start_time": "2022-10-05T22:31:26.539895Z"
    }
   },
   "outputs": [],
   "source": [
    "#fecha a aba atual\n",
    "navegador.close()\n",
    "\n",
    "#voltar para o outro browser aberto\n",
    "navegador.switch_to.window(aba_original)\n",
    "\n",
    "#fecha todas as abas do browser\n",
    "navegador.quit()"
   ]
  }
 ],
 "metadata": {
  "colab": {
   "name": "Abas e Janelas-Arquivo Inicial.ipynb",
   "provenance": []
  },
  "kernelspec": {
   "display_name": "Python 3 (ipykernel)",
   "language": "python",
   "name": "python3"
  },
  "language_info": {
   "codemirror_mode": {
    "name": "ipython",
    "version": 3
   },
   "file_extension": ".py",
   "mimetype": "text/x-python",
   "name": "python",
   "nbconvert_exporter": "python",
   "pygments_lexer": "ipython3",
   "version": "3.9.12"
  }
 },
 "nbformat": 4,
 "nbformat_minor": 5
}
