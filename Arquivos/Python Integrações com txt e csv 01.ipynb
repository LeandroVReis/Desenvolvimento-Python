{
 "cells": [
  {
   "cell_type": "markdown",
   "metadata": {},
   "source": [
    "# Integração do Python com Arquivos txt\n",
    "\n",
    "Como quase tudo no Python, existem várias formas de ler um arquivo no Python.\n",
    "\n",
    "Aprendemos em módulos passadas a ler arquivos em Excel ou csv com o Pandas, minha recomendação é que, sempre que possível, use o pandas para isso porque ele é um módulo feito para análise de dados e tem muita coisa pronta dentro dele.\n",
    "\n",
    "Caso queira ler um arquivo txt simplesmente ou escrever um, vamos ver agora como fazer.\n",
    "\n",
    "### Estrutura:"
   ]
  },
  {
   "cell_type": "raw",
   "metadata": {},
   "source": [
    "1. Método open: -> Abre um arquivo txt\n",
    "\n",
    "arquivo = open('NomeArquivo.txt', 'r')\n",
    "\n",
    "Usamos 'r' para abrir o arquivo para ler (read) e 'w' quando estamos abrindo o arquivo para escrever (write) ou 'a' se formos adicionar (append) uma informação no arquivo"
   ]
  },
  {
   "cell_type": "markdown",
   "metadata": {},
   "source": [
    "- Com o arquivo aberto, agora podemos efetivamente ler o arquivo com os métodos:"
   ]
  },
  {
   "cell_type": "raw",
   "metadata": {},
   "source": [
    "2. Método read():\n",
    "\n",
    "texto_arquivo = arquivo.read()\n",
    "\n",
    "3. Método readlines():\n",
    "\n",
    "lista_linhas = arquivo.readlines()"
   ]
  },
  {
   "cell_type": "markdown",
   "metadata": {},
   "source": [
    "- Para escrever alguma coisa no arquivo teremos o método write:"
   ]
  },
  {
   "cell_type": "raw",
   "metadata": {},
   "source": [
    "4. Método write():\n",
    "\n",
    "arquivo.write('Texto que quero escrever')"
   ]
  },
  {
   "cell_type": "markdown",
   "metadata": {},
   "source": [
    "- Obs: Quando você abre um arquivo, ele permanece aberto no Python até você fechar. Existem 2 formas de fazer isso:"
   ]
  },
  {
   "cell_type": "raw",
   "metadata": {},
   "source": [
    "5. Método close():\n",
    "\n",
    "arquivo.close()\n",
    "\n",
    "6. Usando a estrutura with: -> ao final do with, a própria estrutura with fecha automaticamente o arquivo\n",
    "\n",
    "with open('NomeArquivo.txt', 'w') as arquivo:\n",
    "    arquivo.write()\n",
    "    ..."
   ]
  },
  {
   "cell_type": "markdown",
   "metadata": {},
   "source": [
    "### Desafio onde vamos aprender:\n",
    "\n",
    "- Na Hashtag, sempre analisamos o nosso \"Funil de Vendas\". Para isso, rastreamos de onde veio os alunos por meio de um código, do tipo:\n",
    "    - hashtag_site_org -> Pessoas que vieram pelo site da Hashtag\n",
    "    - hashtag_yt_org -> Pessoas que vieram pelo Youtube da Hashtag\n",
    "    - hashtag_ig_org -> Pessoas que vieram pelo Instagram da Hashtag\n",
    "    - hashtag_igfb_org -> Pessoas que vieram pelo Instagram ou Facebook da Hashtag\n",
    "\n",
    "Os códigos diferentes disso, são códigos de anúncio da Hashtag.\n",
    "\n",
    "- Queremos analisar quantos alunos vieram de anúncio e quantos vieram \"orgânico\".\n",
    "- Qual a melhor fonte \"orgânica\" de alunos\n",
    "\n",
    "Obs: orgânico é tudo aquilo que não veio de anúncios.\n",
    "\n",
    "No nosso sistema, conseguimos exportar um txt com as informações dos alunos, conforme o arquivo Alunos.txt<br>\n",
    "(Os dados foram gerados aleatoriamente para simular uma situação real, já que não podemos fornecer os dados reais dos alunos por questões de segurança)\n",
    "\n",
    "- No final, para treinar, vamos escrever todas essas respostas em um novo arquivo txt"
   ]
  },
  {
   "cell_type": "code",
   "execution_count": 47,
   "metadata": {},
   "outputs": [
    {
     "name": "stdout",
     "output_type": "stream",
     "text": [
      "500\n",
      "Procedimento concluído!\n"
     ]
    }
   ],
   "source": [
    "org = 0\n",
    "norg = 0\n",
    "ht_site = 0\n",
    "ht_yt = 0\n",
    "ht_ig = 0\n",
    "ht_igfb = 0\n",
    "lista_email = []\n",
    "\n",
    "arquivo = open('Alunos.txt','r')\n",
    "linhas = arquivo.readlines()\n",
    "del linhas[:4]\n",
    "print(len(linhas))\n",
    "for linha in linhas:\n",
    "    email, origem = linha.split(',')\n",
    "    email = email.replace('\"','')\n",
    "    lista_email.append(email)\n",
    "    if ('org' in origem):\n",
    "        org += 1\n",
    "        if ('hashtag_site_org' in origem):\n",
    "            ht_site += 1\n",
    "        if ('hashtag_yt_org' in origem):\n",
    "            ht_yt += 1\n",
    "        if ('hashtag_ig_org' in origem):\n",
    "            ht_ig += 1\n",
    "        if ('hashtag_igfb_org' in origem):\n",
    "            ht_igfb += 1\n",
    "    else:\n",
    "        norg += 1   \n",
    "arquivo.close()\n",
    "\n",
    "set_l_email = set(lista_email)\n",
    "lista_clean = list(set_l_email)\n",
    "\n",
    "with open('lista_emails.txt', 'w') as arq:\n",
    "    arq.write('Lista Diária com e-mails\\n')\n",
    "    for ind,item in enumerate(lista_clean):\n",
    "        arq.write('{:>4} - {}\\n'.format(ind+1, item))\n",
    "        \n",
    "with open('lista_dados_diario_dd_mm.txt', 'w') as arquiv:\n",
    "    arquiv.write('Total Orgânico {} - Total Não Orgânico {}\\n'.format(org,norg))\n",
    "    if (org == 0):\n",
    "        arquiv.write('Não teve nenhum cadastro orgânico!!!')\n",
    "    else:\n",
    "        tot_org = ht_ig + ht_igfb + ht_site + ht_yt\n",
    "        arquiv.write('Site {} = {:.2%} | YT {} = {:.2%} | Insta {} = {:.2%} | Insta/Face {} = {:.2%}'.format(ht_site,ht_site/tot_org,ht_yt,ht_yt/tot_org,ht_ig,ht_ig/tot_org,ht_igfb,ht_igfb/tot_org))\n",
    "\n",
    "print('Procedimento concluído!')\n"
   ]
  },
  {
   "cell_type": "code",
   "execution_count": 15,
   "metadata": {},
   "outputs": [],
   "source": [
    "novo_arquivo = open('Resumo.txt','w')\n",
    "novo_arquivo.write('Olá, meu nome é Leandro Vasconcelos\\n')\n",
    "novo_arquivo.write('meu e-mail é: eng.leandro.arduino@gmail.com')\n",
    "novo_arquivo.close()"
   ]
  },
  {
   "cell_type": "code",
   "execution_count": 16,
   "metadata": {},
   "outputs": [
    {
     "name": "stdout",
     "output_type": "stream",
     "text": [
      "Fim do Código!!!\n"
     ]
    }
   ],
   "source": [
    "with open('Resumo2.txt','w') as arquivo2:\n",
    "    arquivo2.write('Olá, meu nome é Leandro Vasconcelos\\n')\n",
    "    arquivo2.write('teste teste teste')\n",
    "print('Fim do Código!!!')"
   ]
  }
 ],
 "metadata": {
  "kernelspec": {
   "display_name": "Python 3 (ipykernel)",
   "language": "python",
   "name": "python3"
  },
  "language_info": {
   "codemirror_mode": {
    "name": "ipython",
    "version": 3
   },
   "file_extension": ".py",
   "mimetype": "text/x-python",
   "name": "python",
   "nbconvert_exporter": "python",
   "pygments_lexer": "ipython3",
   "version": "3.9.12"
  }
 },
 "nbformat": 4,
 "nbformat_minor": 4
}
