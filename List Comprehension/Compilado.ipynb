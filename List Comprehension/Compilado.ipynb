{
 "cells": [
  {
   "cell_type": "code",
   "execution_count": 2,
   "id": "8d0242cd",
   "metadata": {},
   "outputs": [],
   "source": [
    "vendas_prod = [1500,150,2100,1950]\n",
    "prod = ['vinho','cafeteira','microondas','iphone']"
   ]
  },
  {
   "cell_type": "markdown",
   "id": "8d922b0a",
   "metadata": {},
   "source": [
    "## Ordenando uma lista dupla"
   ]
  },
  {
   "cell_type": "code",
   "execution_count": 7,
   "id": "c29e14ff",
   "metadata": {},
   "outputs": [
    {
     "name": "stdout",
     "output_type": "stream",
     "text": [
      "[(1500, 'vinho'), (150, 'cafeteira'), (2100, 'microondas'), (1950, 'iphone')]\n",
      "[(2100, 'microondas'), (1950, 'iphone'), (1500, 'vinho'), (150, 'cafeteira')]\n"
     ]
    }
   ],
   "source": [
    "lista_aux = list(zip(vendas_prod,prod))\n",
    "print(lista_aux)\n",
    "lista_aux.sort(reverse = True)\n",
    "print(lista_aux)"
   ]
  },
  {
   "cell_type": "markdown",
   "id": "c2131f4b",
   "metadata": {},
   "source": [
    "## List Comprehension"
   ]
  },
  {
   "cell_type": "code",
   "execution_count": 9,
   "id": "c403ce49",
   "metadata": {},
   "outputs": [
    {
     "name": "stdout",
     "output_type": "stream",
     "text": [
      "['microondas', 'iphone', 'vinho', 'cafeteira']\n"
     ]
    }
   ],
   "source": [
    "produtos = [produto for vendas, produto in lista_aux]\n",
    "print(produtos)"
   ]
  },
  {
   "cell_type": "code",
   "execution_count": 16,
   "id": "842eb364",
   "metadata": {},
   "outputs": [
    {
     "name": "stdout",
     "output_type": "stream",
     "text": [
      "[1500, 7350, 2674]\n",
      "\n",
      "[1500, 7350, 2674]\n"
     ]
    }
   ],
   "source": [
    "#produto | 2020 | 2021\n",
    "vendas_produtos = [('iphone',1500,2500),('galaxy',7350,8430),('ipad', 2674,7654)]\n",
    "lista1_vendas2020 = []\n",
    "for produto,v2020,v2021 in vendas_produtos:\n",
    "    lista1_vendas2020.append(v2020)\n",
    "print(lista1_vendas2020)\n",
    "print()\n",
    "\n",
    "lista2_vendas2020 = [ve2020 for prods,ve2020,ve2021 in vendas_produtos]\n",
    "print(lista2_vendas2020)"
   ]
  },
  {
   "cell_type": "code",
   "execution_count": 23,
   "id": "aa247f4b",
   "metadata": {},
   "outputs": [
    {
     "name": "stdout",
     "output_type": "stream",
     "text": [
      "(7350, 'galaxy')\n",
      "(7350, 'galaxy')\n"
     ]
    }
   ],
   "source": [
    "lista3_maisvend2020 = [(ve2020,prods) for prods,ve2020,ve2021 in vendas_produtos]\n",
    "####\n",
    "print(max(lista3_maisvend2020))\n",
    "#ou#\n",
    "lista3_maisvend2020.sort(reverse = True)\n",
    "print(lista3_maisvend2020[0])"
   ]
  },
  {
   "cell_type": "markdown",
   "id": "2374d440",
   "metadata": {},
   "source": [
    "## List Comprehension com IF"
   ]
  },
  {
   "cell_type": "code",
   "execution_count": 39,
   "id": "63afeef1",
   "metadata": {},
   "outputs": [
    {
     "name": "stdout",
     "output_type": "stream",
     "text": [
      "[(1500, 'vinho'), (150, 'cafeteira'), (2100, 'microondas'), (1950, 'iphone')]\n"
     ]
    }
   ],
   "source": [
    "vendas_prod = [1500,150,2100,1950]\n",
    "prod = ['vinho','cafeteira','microondas','iphone']\n",
    "meta = 1000\n",
    "lista_aux = list(zip(vendas_prod,prod))\n",
    "print(lista_aux)"
   ]
  },
  {
   "cell_type": "code",
   "execution_count": 41,
   "id": "aa0a1d93",
   "metadata": {},
   "outputs": [
    {
     "name": "stdout",
     "output_type": "stream",
     "text": [
      "['vinho', 'microondas', 'iphone']\n"
     ]
    }
   ],
   "source": [
    "lista1_metaok = []\n",
    "lista1_metaok = [produtos for vendas,produtos in lista_aux if (vendas >= meta)]\n",
    "print(lista1_metaok)"
   ]
  },
  {
   "cell_type": "code",
   "execution_count": 43,
   "id": "c3d8700f",
   "metadata": {},
   "outputs": [
    {
     "name": "stdout",
     "output_type": "stream",
     "text": [
      "['vinho', 'microondas', 'iphone']\n"
     ]
    }
   ],
   "source": [
    "lista2_metaok = []\n",
    "lista2_metaok = [produtos for i,produtos in enumerate(prod) if (vendas_prod[i] >= meta)]\n",
    "print(lista2_metaok)"
   ]
  },
  {
   "cell_type": "markdown",
   "id": "cbdb9d9a",
   "metadata": {},
   "source": [
    "## Exercício de reforço\n",
    "\n",
    "### Lista de Inadimplentes\n",
    "\n",
    "A inadimplência nessa empresa é calculada da seguinte forma:<br>\n",
    "    1. Se o cliente tiver devendo há mais de 20 dias, ele é considerado inadimplente.<br>\n",
    "    2. As informações vêm no formato (cpf, valor_devido, qtde de dias)\n"
   ]
  },
  {
   "cell_type": "code",
   "execution_count": 45,
   "id": "1eba80d8",
   "metadata": {},
   "outputs": [],
   "source": [
    "clientes_devedores = [('462.286.561-65',14405,24),('251.569.170-81',16027,1),('297.681.579-21',8177,28),('790.223.154-40',9585,10),('810.442.219-10',18826,29),('419.210.299-79',11421,15),('908.507.760-43',12445,24),('911.238.364-17',1345,4),('131.115.339-28',11625,8),('204.169.467-27',5364,22),('470.806.376-11',932,29),('938.608.980-69',13809,19),('554.684.165-26',11227,2),('119.225.846-34',4475,9),('358.890.858-95',13932,20),('786.547.940-70',17048,25),('468.487.741-94',2902,8),('540.685.100-32',5806,21),('379.729.796-80',7622,24),('980.173.363-94',13167,24),('833.285.374-56',19581,24),('103.669.436-50',17126,4),('386.836.124-46',18825,11),('588.404.964-15',1545,30),('600.556.177-18',1921,7),('670.346.230-99',18079,28),('771.352.915-13',16581,23),('430.314.324-46',13942,24),('629.507.759-51',17951,11),('348.683.225-73',12424,10),('406.133.151-17',5888,30),('310.985.894-64',17316,30),('964.317.132-30',18818,30),('845.331.524-14',14284,13),('781.995.738-18',19369,29),('921.558.128-63',3206,27),('941.386.982-65',10228,26),('551.135.290-10',18822,18),('537.124.578-35',12670,6),('119.383.169-76',790,20),('938.473.410-98',8851,5),('279.775.182-54',5212,20),('210.872.954-53',13569,8),('684.995.531-65',8649,21),('653.886.282-57',504,28),('973.580.738-53',2533,9),('285.864.892-85',8200,21),('777.154.423-98',10336,8),('769.786.401-34',3233,12),('521.566.565-97',11882,14),('491.799.681-92',653,8),('344.357.819-36',8856,18),('265.362.581-99',8962,8),('331.410.527-56',18516,18),('143.188.958-61',7234,29),('751.630.472-61',13552,6),('714.707.807-80',2898,7),('585.584.932-83',239,25),('165.554.107-13',9572,23),('718.225.984-87',10534,25),('611.715.653-32',3210,11),('397.994.286-79',13651,24),('967.160.575-69',8997,25),('369.750.998-94',13952,2),('767.400.554-79',18320,11),('171.104.286-74',5821,21),('152.817.649-24',3358,30),('645.308.846-62',15176,25),('273.884.570-92',4436,13),('888.818.341-45',15730,3),('577.836.712-40',14670,16),('513.529.919-95',4002,1),('201.476.809-95',17442,21),('657.816.571-87',1582,2),('810.494.975-87',2157,9),('531.749.410-17',12355,18),('486.290.887-24',18576,26),('432.376.642-62',8027,23),('207.274.437-91',5125,29),('634.244.673-72',11387,15),('346.871.172-72',8105,23),('166.330.605-50',7865,11),('829.181.731-94',2425,8),('197.305.464-63',9681,8),('887.877.706-59',15681,10),('847.598.885-51',323,23),('817.170.984-26',5169,27),('591.397.550-29',13362,25),('872.733.198-95',5756,18),('615.629.238-82',11678,23),('194.782.846-77',11044,17),('146.392.158-88',6848,4),('240.427.458-70',3906,25),('583.662.427-52',3306,5),('841.627.523-64',4778,4),('985.337.216-77',15308,4),('912.410.722-57',11683,6),('700.720.266-23',12638,21),('605.405.529-53',3831,3),('383.256.402-25',2599,10),('248.103.486-68',9121,1),('261.974.594-90',2139,26),('297.126.704-91',18529,16),('680.569.318-52',10176,23),('296.334.647-38',225,13),('200.761.898-70',16244,20),('258.232.687-17',19462,18),('597.295.672-38',18840,11),('894.479.102-52',11375,12),('556.156.341-36',16269,23),('987.874.553-86',11253,17),('248.927.998-94',6510,1),('569.993.915-78',4339,15)]"
   ]
  },
  {
   "cell_type": "code",
   "execution_count": 52,
   "id": "c1081ed4",
   "metadata": {},
   "outputs": [
    {
     "name": "stdout",
     "output_type": "stream",
     "text": [
      "1 - 462.286.561-65\n",
      "2 - 297.681.579-21\n",
      "3 - 810.442.219-10\n",
      "4 - 908.507.760-43\n",
      "5 - 204.169.467-27\n",
      "6 - 470.806.376-11\n",
      "7 - 786.547.940-70\n",
      "8 - 540.685.100-32\n",
      "9 - 379.729.796-80\n",
      "10 - 980.173.363-94\n",
      "11 - 833.285.374-56\n",
      "12 - 588.404.964-15\n",
      "13 - 670.346.230-99\n",
      "14 - 771.352.915-13\n",
      "15 - 430.314.324-46\n",
      "16 - 406.133.151-17\n",
      "17 - 310.985.894-64\n",
      "18 - 964.317.132-30\n",
      "19 - 781.995.738-18\n",
      "20 - 921.558.128-63\n",
      "21 - 941.386.982-65\n",
      "22 - 684.995.531-65\n",
      "23 - 653.886.282-57\n",
      "24 - 285.864.892-85\n",
      "25 - 143.188.958-61\n",
      "26 - 585.584.932-83\n",
      "27 - 165.554.107-13\n",
      "28 - 718.225.984-87\n",
      "29 - 397.994.286-79\n",
      "30 - 967.160.575-69\n",
      "31 - 171.104.286-74\n",
      "32 - 152.817.649-24\n",
      "33 - 645.308.846-62\n",
      "34 - 201.476.809-95\n",
      "35 - 486.290.887-24\n",
      "36 - 432.376.642-62\n",
      "37 - 207.274.437-91\n",
      "38 - 346.871.172-72\n",
      "39 - 847.598.885-51\n",
      "40 - 817.170.984-26\n",
      "41 - 591.397.550-29\n",
      "42 - 615.629.238-82\n",
      "43 - 240.427.458-70\n",
      "44 - 700.720.266-23\n",
      "45 - 261.974.594-90\n",
      "46 - 680.569.318-52\n",
      "47 - 556.156.341-36\n"
     ]
    }
   ],
   "source": [
    "lista_inad = []\n",
    "lista_inad = [cpf for cpf,valor,dia in clientes_devedores if (dia > 20)]\n",
    "\n",
    "for i,item in enumerate(lista_inad):\n",
    "    print('{} - {}'.format(i+1,item))"
   ]
  },
  {
   "cell_type": "markdown",
   "id": "87ee9c2a",
   "metadata": {},
   "source": [
    "## List Comprehension com IF .. ELSE"
   ]
  },
  {
   "cell_type": "code",
   "execution_count": 58,
   "id": "218ed6ce",
   "metadata": {},
   "outputs": [
    {
     "name": "stdout",
     "output_type": "stream",
     "text": [
      "[('Maria', 120.0), ('José', 0), ('Antônio', 0), ('João', 150.0), ('Luiz', 0)]\n"
     ]
    }
   ],
   "source": [
    "meta = 1000\n",
    "bonus = 0.10\n",
    "vend_dic = {'Maria':1200,'José':300,'Antônio':800,'João':1500,'Luiz':400}\n",
    "lista_bonusvend = [(vend,valor*bonus) if valor >= meta else (vend,0) for vend,valor in vend_dic.items()]\n",
    "print(lista_bonusvend)"
   ]
  },
  {
   "cell_type": "markdown",
   "id": "2350e0b7",
   "metadata": {},
   "source": [
    "## Exercício de reforço\n",
    "\n",
    "Nesse exercício vamos avaliar o estoque de uma empresa. Vamos considerar que todos os produtos dessa empresa são comprados em lotes de 500 unidades.<br>\n",
    "•\tCaso o estoque esteja abaixo de 1000 unidades, devemos fazer um pedido de 500 unidades.<br>\n",
    "•\tCaso o estoque esteja abaixo de 200 unidades, devemos fazer um pedido de 1000 unidades.<br>\n",
    "Defina o valor a ser pedido de cada produto para enviar ao time de compras.\n"
   ]
  },
  {
   "cell_type": "code",
   "execution_count": 83,
   "id": "a316ef3e",
   "metadata": {},
   "outputs": [],
   "source": [
    "estoque = [('BSA2199',396),('PPF5239',251),('BSA1212',1001),('PPF2154',449),('BEB3410',241),('PPF8999',527),('EMB9591',601),('BSA2006',314),('EMB3604',469),('EMB2070',733),('PPF9018',339),('PPF1468',906),('BSA5819',291),('PPF8666',850),('BEB2983',353),('BEB5877',456),('PPF5008',963),('PPF3877',185),('PPF7321',163),('BSA8833',644),('PPF4980',421),('PPF3063',757),('BSA2089',271),('BSA8398',180),('EMB4622',515),('EMB9814',563),('PPF3784',229),('PPF2398',270),('BEB3211',181),('PPF8655',459),('PPF1874',799),('PPF8789',126),('PPF6324',375),('EMB9290',883),('BSA5516',555),('BSA8451',243),('BSA8213',423)]"
   ]
  },
  {
   "cell_type": "code",
   "execution_count": 85,
   "id": "a351a17c",
   "metadata": {},
   "outputs": [
    {
     "name": "stdout",
     "output_type": "stream",
     "text": [
      "+---------+------+\n",
      "| PRODUTO | QTDE |\n",
      "+---------+------+\n",
      "| BSA2199 |  500 |\n",
      "| PPF5239 |  500 |\n",
      "| BSA1212 |    0 |\n",
      "| PPF2154 |  500 |\n",
      "| BEB3410 |  500 |\n",
      "| PPF8999 |  500 |\n",
      "| EMB9591 |  500 |\n",
      "| BSA2006 |  500 |\n",
      "| EMB3604 |  500 |\n",
      "| EMB2070 |  500 |\n",
      "| PPF9018 |  500 |\n",
      "| PPF1468 |  500 |\n",
      "| BSA5819 |  500 |\n",
      "| PPF8666 |  500 |\n",
      "| BEB2983 |  500 |\n",
      "| BEB5877 |  500 |\n",
      "| PPF5008 |  500 |\n",
      "| PPF3877 | 1000 |\n",
      "| PPF7321 | 1000 |\n",
      "| BSA8833 |  500 |\n",
      "| PPF4980 |  500 |\n",
      "| PPF3063 |  500 |\n",
      "| BSA2089 |  500 |\n",
      "| BSA8398 | 1000 |\n",
      "| EMB4622 |  500 |\n",
      "| EMB9814 |  500 |\n",
      "| PPF3784 |  500 |\n",
      "| PPF2398 |  500 |\n",
      "| BEB3211 | 1000 |\n",
      "| PPF8655 |  500 |\n",
      "| PPF1874 |  500 |\n",
      "| PPF8789 | 1000 |\n",
      "| PPF6324 |  500 |\n",
      "| EMB9290 |  500 |\n",
      "| BSA5516 |  500 |\n",
      "| BSA8451 |  500 |\n",
      "| BSA8213 |  500 |\n",
      "+---------+------+\n"
     ]
    }
   ],
   "source": [
    "faixa1 = 1000\n",
    "compra1 = 500\n",
    "faixa2 = 200\n",
    "compra2 = 1000\n",
    "lista_ped = [(prod,compra2) if (qtd < faixa2) else (prod,compra1) if ((qtd >= faixa2)and(qtd < faixa1)) else (prod,0) for prod,qtd in estoque]\n",
    "print('+'+'-'*9+'+'+'-'*6+'+')\n",
    "print('| PRODUTO | QTDE |')\n",
    "print('+'+'-'*9+'+'+'-'*6+'+')\n",
    "for prod,qtd in lista_ped:\n",
    "    print('| {:^7} | {:>4} |'.format(prod,qtd))\n",
    "print('+'+'-'*9+'+'+'-'*6+'+')"
   ]
  },
  {
   "cell_type": "markdown",
   "id": "51e5838b",
   "metadata": {},
   "source": [
    "## Aplicando List Comprehension em outra ação"
   ]
  },
  {
   "cell_type": "code",
   "execution_count": 86,
   "id": "cf62e37f",
   "metadata": {},
   "outputs": [],
   "source": [
    "produtos = ['coca', 'pepsi', 'guarana', 'skol', 'brahma', 'agua', 'del valle', 'dolly', 'red bull', 'cachaça', 'vinho tinto', 'vodka', 'vinho branco', 'tequila', 'champagne', 'gin', 'guaracamp', 'matte', 'leite de castanha', 'leite', 'jurupinga', 'sprite', 'fanta']\n",
    "vendas = [1200, 300, 800, 1500, 1900, 2750, 400, 20, 23, 70, 90, 80, 1100, 999, 900, 880, 870, 50, 1111, 120, 300, 450, 800]\n",
    "top5 = ['agua', 'brahma', 'skol', 'coca', 'leite de castanha']"
   ]
  },
  {
   "cell_type": "code",
   "execution_count": 98,
   "id": "e4627406",
   "metadata": {},
   "outputs": [
    {
     "name": "stdout",
     "output_type": "stream",
     "text": [
      "50.63%\n"
     ]
    }
   ],
   "source": [
    "total_top5a = [vendas[i] for i,prod in enumerate(produtos) if (prod in top5)]\n",
    "print('{:.2%}'.format(sum(total_top5a)/sum(vendas)))"
   ]
  },
  {
   "cell_type": "code",
   "execution_count": 100,
   "id": "7d062561",
   "metadata": {},
   "outputs": [
    {
     "name": "stdout",
     "output_type": "stream",
     "text": [
      "50.63%\n"
     ]
    }
   ],
   "source": [
    "total_top5b = sum(vendas[i] for i,prod in enumerate(produtos) if (prod in top5))\n",
    "print('{:.2%}'.format(total_top5b/sum(vendas)))"
   ]
  },
  {
   "cell_type": "markdown",
   "id": "bb8c091c",
   "metadata": {},
   "source": [
    "## List Comprehension - Map Function"
   ]
  },
  {
   "cell_type": "code",
   "execution_count": 104,
   "id": "40b645a5",
   "metadata": {},
   "outputs": [
    {
     "name": "stdout",
     "output_type": "stream",
     "text": [
      "['abc12', 'abc34', 'abc37', 'beb12', 'bsa151', 'beb23']\n"
     ]
    }
   ],
   "source": [
    "def padronizar_texto(texto):\n",
    "    texto = texto.casefold()\n",
    "    texto = texto.replace(\"  \",\" \")\n",
    "    texto = texto.strip()\n",
    "    return texto\n",
    "\n",
    "produtos = [' ABC12 ', ' abc34', 'AbC37', 'beb12', ' BSA151', 'BEB23']\n",
    "\n",
    "prod_padrao = list(map(padronizar_texto,produtos))\n",
    "print(prod_padrao)"
   ]
  },
  {
   "cell_type": "markdown",
   "id": "6917dc19",
   "metadata": {},
   "source": [
    "## List Comprehension com Function Sort ou Sorted"
   ]
  },
  {
   "cell_type": "code",
   "execution_count": 114,
   "id": "10a0d87b",
   "metadata": {},
   "outputs": [
    {
     "name": "stdout",
     "output_type": "stream",
     "text": [
      "agua\n",
      "brahma\n",
      "cachaça\n",
      "champagne\n",
      "coca\n",
      "del valle\n",
      "dolly\n",
      "fanta\n",
      "gin\n",
      "guaracamp\n",
      "guarana\n",
      "jurupinga\n",
      "leite\n",
      "leite de castanha\n",
      "matte\n",
      "pepsi\n",
      "red bull\n",
      "Skol\n",
      "sprite\n",
      "tequila\n",
      "vinho branco\n",
      "vinho tinto\n",
      "vodka\n"
     ]
    }
   ],
   "source": [
    "produtos = ['coca', 'pepsi', 'guarana', 'Skol', 'brahma', 'agua', 'del valle', 'dolly', 'red bull', 'cachaça', 'vinho tinto', 'vodka', 'vinho branco', 'tequila', 'champagne', 'gin', 'guaracamp', 'matte', 'leite de castanha', 'leite', 'jurupinga', 'sprite', 'fanta']\n",
    "produtos.sort(key=str.casefold)\n",
    "print('\\n'.join(produtos))"
   ]
  },
  {
   "cell_type": "markdown",
   "id": "b856e37a",
   "metadata": {},
   "source": [
    "## Ordenando um dicionário de acordo com o valor"
   ]
  },
  {
   "cell_type": "code",
   "execution_count": 116,
   "id": "d18abd57",
   "metadata": {},
   "outputs": [],
   "source": [
    "vend_dic = {'Maria':1200,'José':300,'Antônio':800,'João':1500,'Luiz':400}"
   ]
  },
  {
   "cell_type": "code",
   "execution_count": 124,
   "id": "41158c1f",
   "metadata": {},
   "outputs": [
    {
     "name": "stdout",
     "output_type": "stream",
     "text": [
      "[('João', 1500), ('Maria', 1200), ('Antônio', 800), ('Luiz', 400), ('José', 300)]\n"
     ]
    }
   ],
   "source": [
    "def inverter(tupla):\n",
    "    return tupla[1]\n",
    "\n",
    "\n",
    "lista_vend = list(vend_dic.items())\n",
    "lista_vend.sort(key = inverter,reverse = True)\n",
    "print(lista_vend)"
   ]
  },
  {
   "cell_type": "markdown",
   "id": "6763835f",
   "metadata": {},
   "source": [
    "## lambda expressions"
   ]
  },
  {
   "cell_type": "code",
   "execution_count": 129,
   "id": "ef25e87b",
   "metadata": {},
   "outputs": [
    {
     "name": "stdout",
     "output_type": "stream",
     "text": [
      "10\n",
      "10\n"
     ]
    }
   ],
   "source": [
    "def f_dobro(num):\n",
    "    return num * 2\n",
    "print(f_dobro(5))\n",
    "\n",
    "lambda_dobro = lambda num: num * 2\n",
    "print(lambda_dobro(5))"
   ]
  },
  {
   "cell_type": "markdown",
   "id": "6a845e8f",
   "metadata": {},
   "source": [
    "## Lambda expression + função MAP e Filter"
   ]
  },
  {
   "cell_type": "code",
   "execution_count": 131,
   "id": "b5c7a1c9",
   "metadata": {},
   "outputs": [],
   "source": [
    "vend_dic = {'Maria':1200,'José':300,'Antônio':800,'João':1500,'Luiz':400}"
   ]
  },
  {
   "cell_type": "code",
   "execution_count": 137,
   "id": "dce2531a",
   "metadata": {},
   "outputs": [
    {
     "name": "stdout",
     "output_type": "stream",
     "text": [
      "[1321.2, 330.3, 880.8, 1651.5, 440.4]\n",
      "[1321.2, 330.3, 880.8, 1651.5, 440.4]\n"
     ]
    }
   ],
   "source": [
    "def aplic_bonus(valor):\n",
    "    return valor*1.101\n",
    "\n",
    "lista_valbonus = list(map(aplic_bonus,vend_dic.values()))\n",
    "print(lista)\n",
    "\n",
    "lista_bonus = list(map(lambda val: val * 1.101, vend_dic.values()))\n",
    "print(lista_bonus)"
   ]
  },
  {
   "cell_type": "code",
   "execution_count": 146,
   "id": "e6ea909c",
   "metadata": {},
   "outputs": [
    {
     "name": "stdout",
     "output_type": "stream",
     "text": [
      "{'Maria': 1200, 'João': 1500}\n",
      "[1321.2, 1651.5]\n"
     ]
    }
   ],
   "source": [
    "def bat_meta(item):\n",
    "    return item[1] > 1000\n",
    "\n",
    "def aplic_bonus(valor):\n",
    "    return valor*1.101\n",
    "\n",
    "\n",
    "lista_vend_batmeta1 = dict(list(filter(bat_meta,vend_dic.items())))\n",
    "print(lista_vend_batmeta1)\n",
    "\n",
    "lista_valbonus1 = list(map(aplic_bonus,lista_vend_batmeta1.values()))\n",
    "print(lista_valbonus1)"
   ]
  },
  {
   "cell_type": "code",
   "execution_count": 149,
   "id": "c9f985fe",
   "metadata": {},
   "outputs": [
    {
     "name": "stdout",
     "output_type": "stream",
     "text": [
      "{'Maria': 1200, 'João': 1500}\n",
      "[1321.2, 1651.5]\n"
     ]
    }
   ],
   "source": [
    "lista_vend_batmeta2 = dict(list(filter(lambda item: item[1] > 1000,vend_dic.items())))\n",
    "print(lista_vend_batmeta2)\n",
    "\n",
    "lista_valbonus2 = list(map(lambda val: val * 1.101, lista_vend_batmeta2.values()))\n",
    "print(lista_valbonus2)"
   ]
  },
  {
   "cell_type": "markdown",
   "id": "1a0577ea",
   "metadata": {},
   "source": [
    "## lambda expression para gerar funções"
   ]
  },
  {
   "cell_type": "code",
   "execution_count": 161,
   "id": "c633e719",
   "metadata": {},
   "outputs": [
    {
     "name": "stdout",
     "output_type": "stream",
     "text": [
      "110.00 - 115.00 - 125.00\n"
     ]
    }
   ],
   "source": [
    "def calcular_imposto(imposto):\n",
    "    return lambda valor: valor * imposto\n",
    "\n",
    "calc_pr_prod = calcular_imposto(1.10)\n",
    "calc_pr_serv = calcular_imposto(1.15)\n",
    "calc_pr_rlts = calcular_imposto(1.25)\n",
    "\n",
    "\n",
    "preco = 100\n",
    "print('{:.2f} - {:.2f} - {:.2f}'.format(calc_pr_prod(preco),calc_pr_serv(preco),calc_pr_rlts(preco)))"
   ]
  }
 ],
 "metadata": {
  "kernelspec": {
   "display_name": "Python 3 (ipykernel)",
   "language": "python",
   "name": "python3"
  },
  "language_info": {
   "codemirror_mode": {
    "name": "ipython",
    "version": 3
   },
   "file_extension": ".py",
   "mimetype": "text/x-python",
   "name": "python",
   "nbconvert_exporter": "python",
   "pygments_lexer": "ipython3",
   "version": "3.9.12"
  }
 },
 "nbformat": 4,
 "nbformat_minor": 5
}
