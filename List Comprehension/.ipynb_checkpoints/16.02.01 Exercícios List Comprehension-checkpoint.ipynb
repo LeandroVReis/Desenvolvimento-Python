{
 "cells": [
  {
   "cell_type": "markdown",
   "metadata": {},
   "source": [
    "# Exercícios\n",
    "\n",
    "## 1. Tirando informações de listas e dicionários\n",
    "\n",
    "Digamos que você está analisando as vendas de produtos de uma empresa de varejo.\n",
    "\n",
    "Essa lista tem: (produto, vendas de 2019, vendas de 2020) para cada produto.\n",
    "\n",
    "Crie uma lista com as vendas de 2019."
   ]
  },
  {
   "cell_type": "code",
   "execution_count": 19,
   "metadata": {},
   "outputs": [
    {
     "name": "stdout",
     "output_type": "stream",
     "text": [
      "[('iphone', 558147), ('galaxy', 712350), ('ipad', 573823), ('tv', 405252), ('máquina de café', 718654), ('kindle', 531580), ('geladeira', 973139), ('adega', 892292), ('notebook dell', 422760), ('notebook hp', 154753), ('notebook asus', 887061), ('microsoft surface', 438508), ('webcam', 237467), ('caixa de som', 489705), ('microfone', 328311), ('câmera canon', 591120)]\n"
     ]
    }
   ],
   "source": [
    "vendas_produtos = [('iphone', 558147, 951642), ('galaxy', 712350, 244295), ('ipad', 573823, 26964), ('tv', 405252, 787604), ('máquina de café', 718654, 867660), ('kindle', 531580, 78830), ('geladeira', 973139, 710331), ('adega', 892292, 646016), ('notebook dell', 422760, 694913), ('notebook hp', 154753, 539704), ('notebook asus', 887061, 324831), ('microsoft surface', 438508, 667179), ('webcam', 237467, 295633), ('caixa de som', 489705, 725316), ('microfone', 328311, 644622), ('câmera canon', 591120, 994303)]\n",
    "venda19 = [vd19 for produto,vd19,vd20 in vendas_produtos]\n",
    "prod = [produto for produto,vd19,vd20 in vendas_produtos]\n",
    "lista_ab_final = list(zip(prod,venda19))\n",
    "print(lista_ab_final)"
   ]
  },
  {
   "cell_type": "markdown",
   "metadata": {},
   "source": [
    "- Agora, qual o maior valor de vendas de 2019?"
   ]
  },
  {
   "cell_type": "code",
   "execution_count": 14,
   "metadata": {},
   "outputs": [
    {
     "name": "stdout",
     "output_type": "stream",
     "text": [
      "O maior valor de vendas de 2019 foi 973139.\n"
     ]
    }
   ],
   "source": [
    "lista_ba_final = list(zip(venda19,prod))\n",
    "lista_ba_final.sort(reverse=True)\n",
    "valmaior,prodmaior = lista_ba_final[0]\n",
    "print('O maior valor de vendas de 2019 foi {}.'.format(valmaior))"
   ]
  },
  {
   "cell_type": "markdown",
   "metadata": {},
   "source": [
    "- E se eu quisesse descobrir o produto que mais vendeu em 2019?\n",
    "Temos 2 formas de fazer, refazendo o list comprehension ou consultando a lista original"
   ]
  },
  {
   "cell_type": "code",
   "execution_count": 18,
   "metadata": {},
   "outputs": [
    {
     "name": "stdout",
     "output_type": "stream",
     "text": [
      "O produto que mais vendeu em 2019 foi geladeira. \n"
     ]
    }
   ],
   "source": [
    "print('O produto que mais vendeu em 2019 foi {}. '.format(prodmaior))"
   ]
  },
  {
   "cell_type": "code",
   "execution_count": 20,
   "metadata": {},
   "outputs": [
    {
     "name": "stdout",
     "output_type": "stream",
     "text": [
      "[(558147, 'iphone'), (712350, 'galaxy'), (573823, 'ipad'), (405252, 'tv'), (718654, 'máquina de café'), (531580, 'kindle'), (973139, 'geladeira'), (892292, 'adega'), (422760, 'notebook dell'), (154753, 'notebook hp'), (887061, 'notebook asus'), (438508, 'microsoft surface'), (237467, 'webcam'), (489705, 'caixa de som'), (328311, 'microfone'), (591120, 'câmera canon')]\n"
     ]
    }
   ],
   "source": [
    "#outra forma de fazer o list comprehension\n",
    "vendas_produtos = [('iphone', 558147, 951642), ('galaxy', 712350, 244295), ('ipad', 573823, 26964), ('tv', 405252, 787604), ('máquina de café', 718654, 867660), ('kindle', 531580, 78830), ('geladeira', 973139, 710331), ('adega', 892292, 646016), ('notebook dell', 422760, 694913), ('notebook hp', 154753, 539704), ('notebook asus', 887061, 324831), ('microsoft surface', 438508, 667179), ('webcam', 237467, 295633), ('caixa de som', 489705, 725316), ('microfone', 328311, 644622), ('câmera canon', 591120, 994303)]\n",
    "l_vendaprods2019 = [(vd19,produto) for produto,vd19,vd20 in vendas_produtos]\n",
    "print(l_vendaprods2019)"
   ]
  }
 ],
 "metadata": {
  "kernelspec": {
   "display_name": "Python 3 (ipykernel)",
   "language": "python",
   "name": "python3"
  },
  "language_info": {
   "codemirror_mode": {
    "name": "ipython",
    "version": 3
   },
   "file_extension": ".py",
   "mimetype": "text/x-python",
   "name": "python",
   "nbconvert_exporter": "python",
   "pygments_lexer": "ipython3",
   "version": "3.9.12"
  }
 },
 "nbformat": 4,
 "nbformat_minor": 4
}
