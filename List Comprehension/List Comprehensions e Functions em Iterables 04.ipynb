{
 "cells": [
  {
   "cell_type": "markdown",
   "metadata": {},
   "source": [
    "# List Comprehension com if para escolher o resultado final\n",
    "\n",
    "### Estrutura:"
   ]
  },
  {
   "cell_type": "raw",
   "metadata": {},
   "source": [
    "lista = [item if condicao else outro_resultado for item in iterable]"
   ]
  },
  {
   "cell_type": "markdown",
   "metadata": {},
   "source": [
    "- Digamos que eu esteja analisando os vendedores de uma loja e queira criar uma lista para enviar para o RH com o bônus de cada vendedor.\n",
    "- O bônus é dado por 10% do valor de vendas dele, caso ele tenha batido a meta"
   ]
  },
  {
   "cell_type": "code",
   "execution_count": 56,
   "metadata": {},
   "outputs": [],
   "source": [
    "def imprimir(t_bonus):\n",
    "    t_bonus = dict(t_bonus)  \n",
    "    print('+' + 11*'-' + '+' + 11*'-' + '+')\n",
    "    print('|{:^11}|{:^11}|'.format('Nome','Bônus'))\n",
    "    print('+' + 11*'-' + '+' + 11*'-' + '+')\n",
    "    for nome, bonus in t_bonus.items():\n",
    "        texto = 'R$ {:_.2f}'.format(bonus)\n",
    "        texto = texto.replace('.',',').replace('_','.')\n",
    "        print('| {:^9} | {:^9} |'.format(nome,texto))\n",
    "    print('+' + 11*'-' + '+' + 11*'-' + '+')\n",
    "\n",
    "\n",
    "vendedores_dic = {'Maria': 1200, 'José': 300, 'Antônio': 800, 'João': 1500, 'Francisco': 1900, 'Ana': 2750, 'Luiz': 400, 'Paulo': 20, 'Carlos': 23, 'Manoel': 70, 'Pedro': 90, 'Francisca': 80, 'Marcos': 1100, 'Raimundo': 999, 'Sebastião': 900, 'Antônia': 880, 'Marcelo': 870, 'Jorge': 50, 'Márcia': 1111, 'Geraldo': 120, 'Adriana': 300, 'Sandra': 450, 'Luis': 800}\n",
    "meta = 1000"
   ]
  },
  {
   "cell_type": "markdown",
   "metadata": {},
   "source": [
    "- Fazendo por for"
   ]
  },
  {
   "cell_type": "code",
   "execution_count": 57,
   "metadata": {},
   "outputs": [
    {
     "name": "stdout",
     "output_type": "stream",
     "text": [
      "+-----------+-----------+\n",
      "|   Nome    |   Bônus   |\n",
      "+-----------+-----------+\n",
      "|   Maria   | R$ 120,00 |\n",
      "|   José    |  R$ 0,00  |\n",
      "|  Antônio  |  R$ 0,00  |\n",
      "|   João    | R$ 150,00 |\n",
      "| Francisco | R$ 190,00 |\n",
      "|    Ana    | R$ 275,00 |\n",
      "|   Luiz    |  R$ 0,00  |\n",
      "|   Paulo   |  R$ 0,00  |\n",
      "|  Carlos   |  R$ 0,00  |\n",
      "|  Manoel   |  R$ 0,00  |\n",
      "|   Pedro   |  R$ 0,00  |\n",
      "| Francisca |  R$ 0,00  |\n",
      "|  Marcos   | R$ 110,00 |\n",
      "| Raimundo  |  R$ 0,00  |\n",
      "| Sebastião |  R$ 0,00  |\n",
      "|  Antônia  |  R$ 0,00  |\n",
      "|  Marcelo  |  R$ 0,00  |\n",
      "|   Jorge   |  R$ 0,00  |\n",
      "|  Márcia   | R$ 111,10 |\n",
      "|  Geraldo  |  R$ 0,00  |\n",
      "|  Adriana  |  R$ 0,00  |\n",
      "|  Sandra   |  R$ 0,00  |\n",
      "|   Luis    |  R$ 0,00  |\n",
      "+-----------+-----------+\n"
     ]
    }
   ],
   "source": [
    "lista_bonus = []\n",
    "lista_vend = []\n",
    "for chave, valor in vendedores_dic.items():\n",
    "    lista_vend.append(chave)\n",
    "    if valor >= meta:      \n",
    "        lista_bonus.append(valor*0.1)\n",
    "    else:\n",
    "        lista_bonus.append(0)\n",
    "vend_bonus = zip(lista_vend,lista_bonus)\n",
    "imprimir(vend_bonus)"
   ]
  },
  {
   "cell_type": "markdown",
   "metadata": {},
   "source": [
    "- Fazendo por List Comprehension"
   ]
  },
  {
   "cell_type": "code",
   "execution_count": 58,
   "metadata": {},
   "outputs": [
    {
     "name": "stdout",
     "output_type": "stream",
     "text": [
      "+-----------+-----------+\n",
      "|   Nome    |   Bônus   |\n",
      "+-----------+-----------+\n",
      "|   Maria   | R$ 120,00 |\n",
      "|   José    |  R$ 0,00  |\n",
      "|  Antônio  |  R$ 0,00  |\n",
      "|   João    | R$ 150,00 |\n",
      "| Francisco | R$ 190,00 |\n",
      "|    Ana    | R$ 275,00 |\n",
      "|   Luiz    |  R$ 0,00  |\n",
      "|   Paulo   |  R$ 0,00  |\n",
      "|  Carlos   |  R$ 0,00  |\n",
      "|  Manoel   |  R$ 0,00  |\n",
      "|   Pedro   |  R$ 0,00  |\n",
      "| Francisca |  R$ 0,00  |\n",
      "|  Marcos   | R$ 110,00 |\n",
      "| Raimundo  |  R$ 0,00  |\n",
      "| Sebastião |  R$ 0,00  |\n",
      "|  Antônia  |  R$ 0,00  |\n",
      "|  Marcelo  |  R$ 0,00  |\n",
      "|   Jorge   |  R$ 0,00  |\n",
      "|  Márcia   | R$ 111,10 |\n",
      "|  Geraldo  |  R$ 0,00  |\n",
      "|  Adriana  |  R$ 0,00  |\n",
      "|  Sandra   |  R$ 0,00  |\n",
      "|   Luis    |  R$ 0,00  |\n",
      "+-----------+-----------+\n"
     ]
    }
   ],
   "source": [
    "t_bonus = [(chave,valor*0.1) if valor >= meta else (chave,0) for chave,valor in vendedores_dic.items()]\n",
    "imprimir(t_bonus)"
   ]
  }
 ],
 "metadata": {
  "kernelspec": {
   "display_name": "Python 3 (ipykernel)",
   "language": "python",
   "name": "python3"
  },
  "language_info": {
   "codemirror_mode": {
    "name": "ipython",
    "version": 3
   },
   "file_extension": ".py",
   "mimetype": "text/x-python",
   "name": "python",
   "nbconvert_exporter": "python",
   "pygments_lexer": "ipython3",
   "version": "3.9.12"
  }
 },
 "nbformat": 4,
 "nbformat_minor": 4
}
