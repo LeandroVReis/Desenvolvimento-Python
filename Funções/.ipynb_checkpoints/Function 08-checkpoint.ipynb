{
 "cells": [
  {
   "cell_type": "markdown",
   "metadata": {},
   "source": [
    "# Como \"retornar\" mais de um objeto\n",
    "\n",
    "- É possível retornar 2 \"coisas\"? 2 listas, 2 strings, 2 números...\n",
    "    - Sim, basta retornar como uma tupla com 2 itens (vamos fazer um exemplo)\n",
    "    \n"
   ]
  },
  {
   "cell_type": "code",
   "execution_count": null,
   "metadata": {},
   "outputs": [],
   "source": [
    "def operacoes_basicas(num1, num2):\n",
    "    soma = num1 + num2\n",
    "    diferenca = num1 - num2\n",
    "    mult = num1 * num2\n",
    "    divisao = num1 / num2\n",
    "    return soma, diferenca, mult, divisao"
   ]
  },
  {
   "cell_type": "code",
   "execution_count": null,
   "metadata": {},
   "outputs": [],
   "source": []
  },
  {
   "cell_type": "markdown",
   "metadata": {},
   "source": [
    "### Aplicação\n",
    "\n",
    "- Data Science e Inteligência Artificial usa MUITO isso.\n",
    "\n",
    "    1. Quando criamos um modelo de previsão, precisamos treinar esse modelo e testar para ver se ele sendo um bom modelo ou não.\n",
    "    2. Temos então que pegar os nossos dados e dividir em 2 pedaços, uma lista de treino e uma lista de teste.\n",
    "    3. Vamos então pensar no exemplo de um modelo que tenta identificar qual o valor justo de um imóvel de acordo com o tamanho do imóvel. Temos então 2 listas:\n",
    "        - Lista 1: Preços Reais dos Imóveis\n",
    "        - Lista 2: Tamanho do imóvel.\n",
    "    4. Vamos criar então uma função que recebe 2 listas como entrada e que divide cada uma dessas listas em 2, um pedaço de treino e um pedaço de teste. O percentual que a lista vai ser dividida é definida por um fator (que também vai ser um parâmetro da função)"
   ]
  },
  {
   "cell_type": "code",
   "execution_count": null,
   "metadata": {},
   "outputs": [],
   "source": [
    "#exemplo mais simples para facilitar a visualização\n",
    "precos_imoveis = [2.17,1.54,1.45,1.94,2.37,2.3,1.79,1.8,2.25,1.37]\n",
    "tamanho_imoveis = [207,148,130,203,257,228,160,194,232,147]\n",
    "\n",
    "# Vamos definir qual o fator que vamos dividir as listas (ou seja, quantos % da lista vai ficar pra teste. O resto fica pra treino)\n",
    "#Vamos usar 0.1 (10%)\n",
    "\n",
    "#Isso significa que a lista de teste tem quantos itens?\n",
    "\n",
    "#Agora vamos entender qual conta temos que fazer para dividir a lista em 2 listas. Uma com 90% dos valores e outra com 10%\n"
   ]
  },
  {
   "cell_type": "code",
   "execution_count": null,
   "metadata": {},
   "outputs": [],
   "source": []
  },
  {
   "cell_type": "markdown",
   "metadata": {},
   "source": [
    "- Gabarito:"
   ]
  },
  {
   "cell_type": "code",
   "execution_count": null,
   "metadata": {},
   "outputs": [],
   "source": [
    "def separar_listas(lista_valores, lista_atributos, fator = 0.1):\n",
    "    qtde_valores = len(precos_imoveis)\n",
    "    if qtde_valores == len(tamanho_imoveis):\n",
    "        i = int(qtde_valores - qtde_valores * fator)\n",
    "        print(i, qtde_valores)\n",
    "        lista_valores_treino = lista_valores[:i]\n",
    "        lista_valores_teste = lista_valores[i:]\n",
    "        lista_atributos_treino = lista_atributos[:i]\n",
    "        lista_atributos_teste = lista_atributos[i:]\n",
    "        return lista_valores_treino, lista_atributos_treino, lista_valores_teste, lista_atributos_teste\n",
    "    else:\n",
    "        print('Lista Valores e Lista Atributos de Tamanho diferentes, favor corrigir')\n",
    "        return\n",
    "    \n",
    "y_treino, x_treino, x_teste, y_teste = separar_listas(precos_imoveis, tamanho_imoveis)\n",
    "print(x_teste)"
   ]
  }
 ],
 "metadata": {
  "kernelspec": {
   "display_name": "Python 3",
   "language": "python",
   "name": "python3"
  },
  "language_info": {
   "codemirror_mode": {
    "name": "ipython",
    "version": 3
   },
   "file_extension": ".py",
   "mimetype": "text/x-python",
   "name": "python",
   "nbconvert_exporter": "python",
   "pygments_lexer": "ipython3",
   "version": "3.8.3"
  }
 },
 "nbformat": 4,
 "nbformat_minor": 4
}
