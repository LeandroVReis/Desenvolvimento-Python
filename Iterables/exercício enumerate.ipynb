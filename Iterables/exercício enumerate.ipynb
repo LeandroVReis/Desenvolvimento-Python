{
 "cells": [
  {
   "cell_type": "code",
   "execution_count": 1,
   "id": "5e2d9448",
   "metadata": {},
   "outputs": [
    {
     "name": "stdout",
     "output_type": "stream",
     "text": [
      "['Miguel', 'Leandro', 'Lucas']\n",
      "['Leandro', 'Lucas', 'Miguel']\n",
      "0 - Leandro\n",
      "1 - Lucas\n",
      "2 - Miguel\n"
     ]
    }
   ],
   "source": [
    "lista = ['Miguel', 'Leandro', 'Lucas']\n",
    "lista.sort()\n",
    "print(lista)\n",
    "for i,nome in enumerate(lista):\n",
    "    print('{} - {}'.format(i,nome))"
   ]
  }
 ],
 "metadata": {
  "kernelspec": {
   "display_name": "Python 3 (ipykernel)",
   "language": "python",
   "name": "python3"
  },
  "language_info": {
   "codemirror_mode": {
    "name": "ipython",
    "version": 3
   },
   "file_extension": ".py",
   "mimetype": "text/x-python",
   "name": "python",
   "nbconvert_exporter": "python",
   "pygments_lexer": "ipython3",
   "version": "3.9.12"
  }
 },
 "nbformat": 4,
 "nbformat_minor": 5
}
