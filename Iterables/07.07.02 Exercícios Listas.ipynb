{
 "cells": [
  {
   "cell_type": "markdown",
   "metadata": {},
   "source": [
    "# Exercícios\n",
    "\n",
    "## 1. Faturamento do Melhor e do Pior Mês do Ano\n",
    "\n",
    "Qual foi o valor de vendas do melhor mês do Ano?\n",
    "E valor do pior mês do ano?"
   ]
  },
  {
   "cell_type": "code",
   "execution_count": 33,
   "metadata": {},
   "outputs": [
    {
     "name": "stdout",
     "output_type": "stream",
     "text": [
      "O melhor mês foi nov com valor de R$ 49.051,00 | O pior mês foi dez com valor de R$ 9.650,00\n"
     ]
    }
   ],
   "source": [
    "meses = ['jan', 'fev', 'mar', 'abr', 'mai', 'jun', 'jul', 'ago', 'set', 'out', 'nov', 'dez']\n",
    "vendas_1sem = [25000, 29000, 22200, 17750, 15870, 19900]\n",
    "vendas_2sem = [19850, 20120, 17540, 15555, 49051, 9650]\n",
    "vendas = vendas_1sem + vendas_2sem\n",
    "maior = max(vendas)\n",
    "menor = min(vendas)\n",
    "pos_maior = vendas.index(maior)\n",
    "pos_menor = vendas.index(menor)\n",
    "result = 'O melhor mês foi {} com valor de R$ {:_.2f} | O pior mês foi {} com valor de R$ {:_.2f}'.format(meses[pos_maior],vendas[pos_maior],meses[pos_menor],vendas[pos_menor])\n",
    "result = result.replace('.',',').replace('_','.')\n",
    "print(result)"
   ]
  },
  {
   "cell_type": "markdown",
   "metadata": {},
   "source": [
    "## 2. Continuação\n",
    "\n",
    "Agora relacione as duas listas para printar 'O melhor mês do ano foi {} com {} vendas' e o mesmo para o pior mês do ano.\n",
    "\n",
    "Calcule também o faturamento total do Ano e quanto que o melhor mês representou do faturamento total.\n",
    "\n",
    "Obs: Para o faturamento total, pode usar a função sum(lista) que soma todos os itens de uma lista"
   ]
  },
  {
   "cell_type": "code",
   "execution_count": 34,
   "metadata": {},
   "outputs": [
    {
     "name": "stdout",
     "output_type": "stream",
     "text": [
      "O faturamento total foi R$ 261.486,00 e o melhor mês representou R$ 18,76%\n"
     ]
    }
   ],
   "source": [
    "faturamento = sum(vendas)\n",
    "porc_fat = vendas[pos_maior] / faturamento\n",
    "texto = 'O faturamento total foi R$ {:_.2f} e o melhor mês representou R$ {:.2%}'.format(faturamento, porc_fat)\n",
    "texto = texto.replace('.',',').replace('_','.')\n",
    "print(texto)"
   ]
  },
  {
   "cell_type": "markdown",
   "metadata": {},
   "source": [
    "## 3. Crie uma lista com o top 3 valores de vendas do ano (sem fazer \"no olho\")\n",
    "\n",
    "Dica: o método remove retira um item da lista."
   ]
  },
  {
   "cell_type": "code",
   "execution_count": 53,
   "metadata": {},
   "outputs": [
    {
     "name": "stdout",
     "output_type": "stream",
     "text": [
      "Ranking: \n",
      "1° Lugar mês nov com R$ 49.051,00 \n",
      "2° Lugar mês fev com R$ 29.000,00 \n",
      "3° Lugar mês jan com R$ 25.000,00\n"
     ]
    }
   ],
   "source": [
    "vendas_mod = vendas.copy()\n",
    "vendas_mod.sort(reverse = True)\n",
    "pri = vendas.index(vendas_mod[0])\n",
    "seg = vendas.index(vendas_mod[1])\n",
    "ter = vendas.index(vendas_mod[2])\n",
    "ranking = 'Ranking: \\n1° Lugar mês {} com R$ {:_.2f} \\n2° Lugar mês {} com R$ {:_.2f} \\n3° Lugar mês {} com R$ {:_.2f}'.format(meses[pri],vendas_mod[0],meses[seg],vendas_mod[1],meses[ter],vendas_mod[2])\n",
    "ranking = ranking.replace('.',',').replace('_','.')\n",
    "print(ranking)"
   ]
  }
 ],
 "metadata": {
  "kernelspec": {
   "display_name": "Python 3 (ipykernel)",
   "language": "python",
   "name": "python3"
  },
  "language_info": {
   "codemirror_mode": {
    "name": "ipython",
    "version": 3
   },
   "file_extension": ".py",
   "mimetype": "text/x-python",
   "name": "python",
   "nbconvert_exporter": "python",
   "pygments_lexer": "ipython3",
   "version": "3.9.12"
  }
 },
 "nbformat": 4,
 "nbformat_minor": 4
}
