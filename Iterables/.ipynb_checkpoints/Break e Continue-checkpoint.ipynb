{
 "cells": [
  {
   "cell_type": "code",
   "execution_count": 1,
   "id": "1bac3299",
   "metadata": {},
   "outputs": [],
   "source": [
    "vendas = [100,150,1500,2000,120]"
   ]
  },
  {
   "cell_type": "code",
   "execution_count": 7,
   "id": "2b24ad2e",
   "metadata": {},
   "outputs": [
    {
     "name": "stdout",
     "output_type": "stream",
     "text": [
      "A loja não ganha bônus!\n"
     ]
    }
   ],
   "source": [
    "meta = 110\n",
    "\n",
    "for venda in vendas:\n",
    "    if (venda < meta):\n",
    "        print('A loja não ganha bônus!')\n",
    "        break\n",
    "    print(venda)"
   ]
  },
  {
   "cell_type": "code",
   "execution_count": 8,
   "id": "e47014ba",
   "metadata": {},
   "outputs": [
    {
     "name": "stdout",
     "output_type": "stream",
     "text": [
      "150\n",
      "1500\n",
      "2000\n"
     ]
    }
   ],
   "source": [
    "meta = 130\n",
    "\n",
    "for venda in vendas:\n",
    "    if (venda < meta):\n",
    "        continue\n",
    "    print(venda)"
   ]
  }
 ],
 "metadata": {
  "kernelspec": {
   "display_name": "Python 3 (ipykernel)",
   "language": "python",
   "name": "python3"
  },
  "language_info": {
   "codemirror_mode": {
    "name": "ipython",
    "version": 3
   },
   "file_extension": ".py",
   "mimetype": "text/x-python",
   "name": "python",
   "nbconvert_exporter": "python",
   "pygments_lexer": "ipython3",
   "version": "3.9.12"
  }
 },
 "nbformat": 4,
 "nbformat_minor": 5
}
