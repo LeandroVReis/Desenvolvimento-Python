{
 "cells": [
  {
   "cell_type": "code",
   "execution_count": 2,
   "id": "0ad1de0d",
   "metadata": {},
   "outputs": [
    {
     "name": "stdout",
     "output_type": "stream",
     "text": [
      "Meu e-mail não é leandro.reis@uol.com.br       , show?\n"
     ]
    }
   ],
   "source": [
    "email = 'leandro.reis@uol.com.br'\n",
    "print('Meu e-mail não é {:<30}, show?'.format(email))"
   ]
  },
  {
   "cell_type": "code",
   "execution_count": 4,
   "id": "6088225e",
   "metadata": {},
   "outputs": [
    {
     "name": "stdout",
     "output_type": "stream",
     "text": [
      "Meu e-mail não é        leandro.reis@uol.com.br, show?\n"
     ]
    }
   ],
   "source": [
    "email = 'leandro.reis@uol.com.br'\n",
    "print('Meu e-mail não é {:>30}, show?'.format(email))"
   ]
  },
  {
   "cell_type": "code",
   "execution_count": 7,
   "id": "bc1b26f9",
   "metadata": {},
   "outputs": [
    {
     "name": "stdout",
     "output_type": "stream",
     "text": [
      "Meu e-mail não é    leandro.reis@uol.com.br    , show?\n"
     ]
    }
   ],
   "source": [
    "email = 'leandro.reis@uol.com.br'\n",
    "print('Meu e-mail não é {:^30}, show?'.format(email))"
   ]
  },
  {
   "cell_type": "code",
   "execution_count": 32,
   "id": "e671ca77",
   "metadata": {},
   "outputs": [
    {
     "name": "stdout",
     "output_type": "stream",
     "text": [
      "23.31\n",
      "Faturamento foi R$+120.00 e o lucro foi R$+70.00\n",
      "O lucro foi R$70,00\n",
      "A margem de lucro foi 58.3%\n"
     ]
    }
   ],
   "source": [
    "custo = 50\n",
    "faturamento = 120\n",
    "lucro = faturamento - custo\n",
    "margem = lucro / faturamento\n",
    "reserva = round(lucro * 0.333,2)\n",
    "print(reserva)\n",
    "print('Faturamento foi R${:+,.2f} e o lucro foi R${:+,.2f}'.format(faturamento,lucro))\n",
    "lucro_texto = 'O lucro foi R${:_.2f}'.format(lucro)\n",
    "print(lucro_texto.replace('.',',').replace('_','.'))\n",
    "print('A margem de lucro foi {:.1%}'.format(margem))"
   ]
  }
 ],
 "metadata": {
  "kernelspec": {
   "display_name": "Python 3 (ipykernel)",
   "language": "python",
   "name": "python3"
  },
  "language_info": {
   "codemirror_mode": {
    "name": "ipython",
    "version": 3
   },
   "file_extension": ".py",
   "mimetype": "text/x-python",
   "name": "python",
   "nbconvert_exporter": "python",
   "pygments_lexer": "ipython3",
   "version": "3.9.12"
  }
 },
 "nbformat": 4,
 "nbformat_minor": 5
}
