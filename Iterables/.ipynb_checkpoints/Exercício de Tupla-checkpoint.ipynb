{
 "cells": [
  {
   "cell_type": "markdown",
   "metadata": {},
   "source": [
    "# Aplicação de Tupla - Lista de Tuplas\n",
    "\n",
    "### Estrutura:\n",
    "\n",
    "Além de casos como o do enumerate, em que usamos uma função para transformar itens em tuplas porque isso ajuda o nosso código, temos também listas de tuplas como algo comum dentro do Python."
   ]
  },
  {
   "cell_type": "raw",
   "metadata": {},
   "source": [
    "lista = [\n",
    "    tupla1,\n",
    "    tupla2,\n",
    "    tupla3,\n",
    "    ]\n",
    "    \n",
    "ou seja\n",
    "\n",
    "lista = [\n",
    "    (valor1, valor2, valor3),\n",
    "    (valor4, valor5, valor6),\n",
    "    (valor7, valor8, valor9),\n",
    "    ]"
   ]
  },
  {
   "cell_type": "markdown",
   "metadata": {},
   "source": [
    "### Exemplo:\n",
    "\n",
    "Digamos que você está analisando as vendas do Banco de Dados de um e-commerce.\n",
    "\n",
    "Em um determinado dia, você extraiu as vendas do Banco de Dados e elas vieram nesse formato:"
   ]
  },
  {
   "cell_type": "code",
   "execution_count": 32,
   "metadata": {},
   "outputs": [],
   "source": [
    "vendas = [\n",
    "    ('20/08/2020', 'iphone x', 'azul', '128gb', 350, 4000),\n",
    "    ('20/08/2020', 'iphone x', 'prata', '128gb', 1500, 4000),\n",
    "    ('20/08/2020', 'ipad', 'prata', '256gb', 127, 6000),\n",
    "    ('20/08/2020', 'ipad', 'prata', '128gb', 981, 5000),\n",
    "    ('21/08/2020', 'iphone x', 'azul', '128gb', 4000, 4000),\n",
    "    ('21/08/2020', 'iphone x', 'prata', '128gb', 1017, 4000),\n",
    "    ('21/08/2020', 'ipad', 'prata', '256gb', 50, 6000),\n",
    "    ('21/08/2020', 'ipad', 'prata', '128gb', 4000, 5000),\n",
    "]"
   ]
  },
  {
   "cell_type": "markdown",
   "metadata": {},
   "source": [
    "- Qual foi o faturamento de IPhone no dia 20/08/2020?\n",
    "- Qual foi o produto mais vendido (em unidades) no dia 21/08/2020?"
   ]
  },
  {
   "cell_type": "code",
   "execution_count": 50,
   "metadata": {},
   "outputs": [
    {
     "name": "stdout",
     "output_type": "stream",
     "text": [
      "O faturamento foi R$ 7.400.000,00\n",
      "\n",
      "A quantidade vendida foi de 4000\n",
      "\n",
      "produto(s) vendido(s):\n",
      "\n",
      "iphone x ( azul / 128gb )\n",
      "ipad ( prata / 128gb )\n"
     ]
    }
   ],
   "source": [
    "faturamento = 0\n",
    "maior = 0\n",
    "pri = 0\n",
    "\n",
    "lista_prod = []\n",
    "lista_tam = []\n",
    "lista_cor = []\n",
    "\n",
    "for item in vendas:\n",
    "    data,prod,cor,tamanho,qtd,valor = item\n",
    "    if (prod == 'iphone x')and(data == '20/08/2020'):\n",
    "        faturamento += qtd * valor\n",
    "    if (data == '21/08/2020'):\n",
    "        if (pri == 0):\n",
    "            maior = qtd\n",
    "            lista_prod.append(prod)\n",
    "            lista_cor.append(cor)\n",
    "            lista_tam.append(tamanho)\n",
    "            pri = 1\n",
    "        elif (qtd > maior):\n",
    "            maior = qtd\n",
    "            lista_prod = prod\n",
    "            lista_cor = cor\n",
    "            lista_tam = tamanho\n",
    "        elif (qtd == maior):\n",
    "            lista_prod.append(prod)\n",
    "            lista_cor.append(cor)\n",
    "            lista_tam.append(tamanho)\n",
    "        else:\n",
    "            pass\n",
    "texto = 'O faturamento foi R$ {:_.2f}'.format(faturamento)        \n",
    "texto = texto.replace('.',',').replace('_','.')\n",
    "print(texto)\n",
    "print()\n",
    "qtd_prod = len(lista_prod)\n",
    "if (qtd_prod == 0):\n",
    "    print('Não houve vendas')\n",
    "elif (qtd_prod == 1):\n",
    "    print('A quantidade vendida foi de {0} e o(s) produto(s):\\n{1} ( {2} / {3} )  de {0}'.format(maior,lista_prod,lista_cor,lista_tam))\n",
    "else:\n",
    "    print('A quantidade vendida foi de {}\\n\\nproduto(s) vendido(s):\\n'.format(maior))\n",
    "    for i,prd in enumerate(lista_prod):\n",
    "        print('{} ( {} / {} )'.format(prd,lista_cor[i],lista_tam[i]))\n",
    "    "
   ]
  },
  {
   "cell_type": "code",
   "execution_count": null,
   "metadata": {},
   "outputs": [],
   "source": []
  }
 ],
 "metadata": {
  "kernelspec": {
   "display_name": "Python 3 (ipykernel)",
   "language": "python",
   "name": "python3"
  },
  "language_info": {
   "codemirror_mode": {
    "name": "ipython",
    "version": 3
   },
   "file_extension": ".py",
   "mimetype": "text/x-python",
   "name": "python",
   "nbconvert_exporter": "python",
   "pygments_lexer": "ipython3",
   "version": "3.9.12"
  }
 },
 "nbformat": 4,
 "nbformat_minor": 4
}
