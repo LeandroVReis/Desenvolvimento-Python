{
 "cells": [
  {
   "cell_type": "code",
   "execution_count": 25,
   "id": "6312b326",
   "metadata": {},
   "outputs": [
    {
     "name": "stdout",
     "output_type": "stream",
     "text": [
      "Leandro, o lucro de hoje foi de 260.00, sendo que o faturamento deu 500.00 e o custo foi 240.00.\n"
     ]
    }
   ],
   "source": [
    "nome = 'Leandro'\n",
    "fatu = 500.00\n",
    "custo = 240.00\n",
    "lucro = float(fatu - custo)\n",
    "\n",
    "print('%s, o lucro de hoje foi de %.2f, sendo que o faturamento deu %.2f e o custo foi %.2f.' % (nome, lucro, fatu, custo))"
   ]
  },
  {
   "cell_type": "code",
   "execution_count": 30,
   "id": "aae882d2",
   "metadata": {},
   "outputs": [
    {
     "name": "stdout",
     "output_type": "stream",
     "text": [
      "Leandro, o lucro de hoje foi de 260.00, sendo que o faturamento deu 500.00 e o custo foi 240.00.\n"
     ]
    }
   ],
   "source": [
    "nome = 'Leandro'\n",
    "fatu = 500\n",
    "custo = 240\n",
    "lucro = (fatu - custo)\n",
    "\n",
    "print(f'{nome}, o lucro de hoje foi de {lucro:.2f}, sendo que o faturamento deu {fatu:.2f} e o custo foi {custo:.2f}.')"
   ]
  },
  {
   "cell_type": "code",
   "execution_count": 28,
   "id": "300970a6",
   "metadata": {},
   "outputs": [
    {
     "name": "stdout",
     "output_type": "stream",
     "text": [
      "Leandro, o lucro de hoje foi de 260.00, sendo que o faturamento deu 500.00 e o custo foi 240.00.\n"
     ]
    }
   ],
   "source": [
    "nome = 'Leandro'\n",
    "fatu = 500\n",
    "custo = 240\n",
    "lucro = (fatu - custo)\n",
    "\n",
    "print('{}, o lucro de hoje foi de {:.2f}, sendo que o faturamento deu {:.2f} e o custo foi {:.2f}.'.format(nome, lucro, fatu, custo))"
   ]
  },
  {
   "cell_type": "code",
   "execution_count": 33,
   "id": "b130f654",
   "metadata": {},
   "outputs": [
    {
     "name": "stdout",
     "output_type": "stream",
     "text": [
      "Leandro, o lucro de hoje foi de 260.00, sendo que o faturamento deu 500.00 e o custo foi 240.00.\n"
     ]
    }
   ],
   "source": [
    "nome = 'Leandro'\n",
    "fatu = 500\n",
    "custo = 240\n",
    "lucro = (fatu - custo)\n",
    "\n",
    "print('{0}, o lucro de hoje foi de {3:.2f}, sendo que o faturamento deu {1:.2f} e o custo foi {2:.2f}.'.format(nome, fatu, custo,lucro))"
   ]
  },
  {
   "cell_type": "code",
   "execution_count": 42,
   "id": "60e5bca4",
   "metadata": {},
   "outputs": [
    {
     "name": "stdout",
     "output_type": "stream",
     "text": [
      "Leandro, o lucro de hoje foi de 260, sendo que o faturamento deu 500 e o custo foi 240.\n"
     ]
    }
   ],
   "source": [
    "nome = 'Leandro'\n",
    "fatu = 500\n",
    "custo = 240\n",
    "lucro = (fatu - custo)\n",
    "\n",
    "print(nome + ', o lucro de hoje foi de ' + str(lucro) + ', sendo que o faturamento deu ' + str(fatu) + ' e o custo foi ' + str(custo) + '.')"
   ]
  },
  {
   "cell_type": "code",
   "execution_count": 43,
   "id": "bb54c777",
   "metadata": {},
   "outputs": [
    {
     "name": "stdout",
     "output_type": "stream",
     "text": [
      "True\n",
      "False\n"
     ]
    }
   ],
   "source": [
    "print('@' in 'leandro.reis@gmail.com')\n",
    "print('@' in 'leandro.reis.gmail.com')"
   ]
  },
  {
   "cell_type": "code",
   "execution_count": null,
   "id": "e8307d08",
   "metadata": {},
   "outputs": [],
   "source": []
  }
 ],
 "metadata": {
  "kernelspec": {
   "display_name": "Python 3 (ipykernel)",
   "language": "python",
   "name": "python3"
  },
  "language_info": {
   "codemirror_mode": {
    "name": "ipython",
    "version": 3
   },
   "file_extension": ".py",
   "mimetype": "text/x-python",
   "name": "python",
   "nbconvert_exporter": "python",
   "pygments_lexer": "ipython3",
   "version": "3.9.12"
  }
 },
 "nbformat": 4,
 "nbformat_minor": 5
}
