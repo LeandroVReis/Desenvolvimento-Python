{
 "cells": [
  {
   "cell_type": "code",
   "execution_count": 4,
   "id": "87943c53",
   "metadata": {},
   "outputs": [
    {
     "name": "stdout",
     "output_type": "stream",
     "text": [
      "('Leandro', '31/03/1985', 'Masculino')\n"
     ]
    }
   ],
   "source": [
    "dados = ('Leandro','31/03/1985','Masculino')\n",
    "print(dados)"
   ]
  },
  {
   "cell_type": "code",
   "execution_count": 7,
   "id": "aaedf52e",
   "metadata": {},
   "outputs": [
    {
     "name": "stdout",
     "output_type": "stream",
     "text": [
      "Nome: Leandro\n",
      "Dt. de Nasc.: 31/03/1985\n",
      "Sexo: Masculino\n"
     ]
    }
   ],
   "source": [
    "nome = dados[0]\n",
    "dt_nasc = dados[1]\n",
    "sexo = dados[2]\n",
    "\n",
    "print('Nome: {}\\nDt. de Nasc.: {}\\nSexo: {}'.format(nome, dt_nasc, sexo))"
   ]
  },
  {
   "cell_type": "code",
   "execution_count": 9,
   "id": "77e68d1a",
   "metadata": {},
   "outputs": [
    {
     "name": "stdout",
     "output_type": "stream",
     "text": [
      "Leandro\n"
     ]
    }
   ],
   "source": [
    "nomeT,dt_nascT,sexoT = dados\n",
    "\n",
    "print(nomeT)"
   ]
  },
  {
   "cell_type": "code",
   "execution_count": 10,
   "id": "83dabfc5",
   "metadata": {},
   "outputs": [
    {
     "name": "stdout",
     "output_type": "stream",
     "text": [
      "0 - Leandro\n",
      "1 - 31/03/1985\n",
      "2 - Masculino\n"
     ]
    }
   ],
   "source": [
    "for i,item in enumerate(dados):\n",
    "    print('{} - {}'.format(i,item))"
   ]
  }
 ],
 "metadata": {
  "kernelspec": {
   "display_name": "Python 3 (ipykernel)",
   "language": "python",
   "name": "python3"
  },
  "language_info": {
   "codemirror_mode": {
    "name": "ipython",
    "version": 3
   },
   "file_extension": ".py",
   "mimetype": "text/x-python",
   "name": "python",
   "nbconvert_exporter": "python",
   "pygments_lexer": "ipython3",
   "version": "3.9.12"
  }
 },
 "nbformat": 4,
 "nbformat_minor": 5
}
