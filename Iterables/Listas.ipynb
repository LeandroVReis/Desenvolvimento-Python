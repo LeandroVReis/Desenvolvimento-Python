{
 "cells": [
  {
   "cell_type": "code",
   "execution_count": 19,
   "id": "e62e097e",
   "metadata": {},
   "outputs": [
    {
     "name": "stdout",
     "output_type": "stream",
     "text": [
      "Qual produto deseja pesquisar?\n",
      "ouro\n",
      "Este produto (ouro) não existe no sistema, deseja adicionar? Digite (s)im ou outra para não! s\n",
      "Entre com o valor do ouro: 150\n",
      "Deseja adicionar ou pesquisar produto novamente? Digite (s)im ou outra para não! s\n",
      "Qual produto deseja pesquisar?\n",
      "ouro\n",
      "O valor do ouro atualmente é R$150,00\n",
      "Deseja adicionar ou pesquisar produto novamente? Digite (s)im ou outra para não! n\n"
     ]
    }
   ],
   "source": [
    "produtos = ['aço', 'alumínio', 'ferro', 'inox', 'zinco']\n",
    "valor = [30.0,20.0,5.0,50.0,10.0]\n",
    "\n",
    "resp = 's'\n",
    "\n",
    "while (resp == 'S')or(resp == 's'):\n",
    "    produto = input('Qual produto deseja pesquisar?\\n')\n",
    "    produto = produto.casefold()\n",
    "    if produto in produtos:\n",
    "        i = produtos.index(produto)\n",
    "        texto = 'O valor do {} atualmente é R${:_.2f}'.format(produtos[i],valor[i])\n",
    "        texto = texto.replace('.',',').replace('_','.')\n",
    "        print(texto)\n",
    "    else:\n",
    "        resposta = input('Este produto ({}) não existe no sistema, deseja adicionar? Digite (s)im ou outra para não! '.format(produto))\n",
    "        if (resposta == 'S')or(resposta == 's'):\n",
    "            produtos.append(produto)\n",
    "            novo_valor = float(input('Entre com o valor do {}: '.format(produto)))\n",
    "            valor.append(novo_valor)\n",
    "    resp = input('Deseja adicionar ou pesquisar produto novamente? Digite (s)im ou outra para não! ')"
   ]
  },
  {
   "cell_type": "code",
   "execution_count": 4,
   "id": "21671080",
   "metadata": {},
   "outputs": [
    {
     "name": "stdout",
     "output_type": "stream",
     "text": [
      "['aço', 'alumínio', 'ferro', 'inox', 'zinco', 'ouro']\n",
      "['alumínio', 'ferro', 'inox', 'zinco', 'ouro']\n",
      "['alumínio', 'ferro', 'zinco', 'ouro']\n"
     ]
    }
   ],
   "source": [
    "produtos = ['aço', 'alumínio', 'ferro', 'inox', 'zinco']\n",
    "produtos.append('ouro')\n",
    "print(produtos)\n",
    "produtos.remove('aço')\n",
    "print(produtos)\n",
    "produtos.pop(2)\n",
    "print(produtos)"
   ]
  },
  {
   "cell_type": "code",
   "execution_count": 9,
   "id": "6cfbc3f5",
   "metadata": {},
   "outputs": [
    {
     "name": "stdout",
     "output_type": "stream",
     "text": [
      "O maior está na 3ª posição com o valor 50.0 e o menor está na 2ª posição com o valor 5.0\n"
     ]
    }
   ],
   "source": [
    "valor = [30.0,20.0,5.0,50.0,10.0]\n",
    "maior = max(valor)\n",
    "menor = min(valor)\n",
    "vpos_maior = valor.index(maior)\n",
    "vpos_menor = valor.index(menor)\n",
    "print('O maior está na {}ª posição com o valor {} e o menor está na {}ª posição com o valor {}'.format(vpos_maior, maior, vpos_menor, menor))"
   ]
  },
  {
   "cell_type": "code",
   "execution_count": 25,
   "id": "3d197ab2",
   "metadata": {},
   "outputs": [
    {
     "name": "stdout",
     "output_type": "stream",
     "text": [
      "['aço', 'alumínio', 'ferro', 'inox', 'zinco', 'ouro', 'prata', 'cobre']\n",
      "['aço', 'alumínio', 'ferro', 'inox', 'zinco']\n",
      "['aço', 'alumínio', 'ferro', 'inox', 'zinco', 'latão']\n",
      "['ouro', 'prata', 'cobre', 'aço', 'alumínio', 'ferro', 'inox', 'zinco']\n",
      "['aço', 'alumínio', 'ferro', 'inox', 'zinco', 'ouro', 'prata', 'cobre']\n",
      "['aço', 'alumínio', 'ferro', 'inox', 'zinco', 'latão']\n",
      "['aço', 'alumínio', 'ferro', 'inox', 'zinco']\n",
      "['alumínio', 'aço', 'cobre', 'ferro', 'inox', 'ouro', 'prata', 'zinco']\n",
      "['zinco', 'prata', 'ouro', 'inox', 'ferro', 'cobre', 'aço', 'alumínio']\n"
     ]
    }
   ],
   "source": [
    "produtos1 = ['aço', 'alumínio', 'ferro', 'inox', 'zinco']\n",
    "produtos2 = ['ouro','prata', 'cobre']\n",
    "\n",
    "produtos = produtos1 + produtos2\n",
    "print(produtos)\n",
    "\n",
    "prod1 = produtos1\n",
    "prod = produtos1.copy()\n",
    "\n",
    "produtos2.extend(produtos1)\n",
    "print(produtos1)\n",
    "\n",
    "produtos1.append('latão')\n",
    "print(produtos1)\n",
    "print(produtos2)\n",
    "print(produtos)\n",
    "print(prod1)\n",
    "print(prod)\n",
    "produtos.sort(reverse=False)\n",
    "print(produtos)\n",
    "produtos.sort(reverse=True)\n",
    "print(produtos)"
   ]
  },
  {
   "cell_type": "code",
   "execution_count": 45,
   "id": "64fc132b",
   "metadata": {},
   "outputs": [
    {
     "name": "stdout",
     "output_type": "stream",
     "text": [
      "['alumínio', 'aço', 'cobre', 'ferro', 'inox', 'ouro', 'prata', 'zinco']\n",
      "\n",
      "alumínio\n",
      "aço\n",
      "cobre\n",
      "ferro\n",
      "inox\n",
      "ouro\n",
      "prata\n",
      "zinco\n",
      "\n",
      "alumínio, aço, cobre, ferro, inox, ouro, prata, zinco\n",
      "\n",
      "['alumínio', 'aço', 'cobre', 'ferro', 'inox', 'ouro', 'prata', 'zinco']\n"
     ]
    }
   ],
   "source": [
    "produtos1 = ['aço', 'alumínio', 'ferro', 'inox', 'zinco']\n",
    "produtos2 = ['ouro','prata', 'cobre']\n",
    "\n",
    "produtos = produtos1 + produtos2\n",
    "produtos.sort()\n",
    "print(produtos)\n",
    "print()\n",
    "print('\\n'.join(produtos))\n",
    "print()\n",
    "prods = ', '.join(produtos)\n",
    "print(prods)\n",
    "print()\n",
    "prods = prods.split(', ')\n",
    "print(prods)"
   ]
  },
  {
   "cell_type": "code",
   "execution_count": 49,
   "id": "b4044f3b",
   "metadata": {},
   "outputs": [
    {
     "name": "stdout",
     "output_type": "stream",
     "text": [
      "[[100, 200], [900, 500], [50, 1000], [900, 10]]\n",
      "[50, 1000]\n",
      "1000\n"
     ]
    }
   ],
   "source": [
    "vendas = [\n",
    "    [100,200],\n",
    "    [900,500],\n",
    "    [50,1000],\n",
    "    [900,10]\n",
    "]\n",
    "\n",
    "print(vendas)\n",
    "print(vendas[2])\n",
    "print(vendas[2][1])"
   ]
  },
  {
   "cell_type": "code",
   "execution_count": 86,
   "id": "9678cf6e",
   "metadata": {},
   "outputs": [
    {
     "name": "stdout",
     "output_type": "stream",
     "text": [
      "1950\n",
      "1710\n",
      "\n",
      "------+---------+--------\n",
      "Mouse | Teclado | Headset\n",
      "------+---------+--------\n",
      "  100 |     200 |     100\n",
      "  900 |     500 |     150\n",
      "   50 |    1000 |      10\n",
      "  900 |      10 |     200\n",
      "------+---------+--------\n"
     ]
    }
   ],
   "source": [
    "produtos = ['Mouse','Teclado']\n",
    "vendas = [\n",
    "    ['100','200'],\n",
    "    ['900','500'],\n",
    "    ['50','1000'],\n",
    "    ['900','10']\n",
    "]\n",
    "\n",
    "valor_m = int(vendas[0][0]) + int(vendas[1][0]) + int(vendas[2][0]) + int(vendas[3][0])\n",
    "valor_t = int(vendas[0][1]) + int(vendas[1][1]) + int(vendas[2][1]) + int(vendas[3][1])\n",
    "\n",
    "print(valor_m)\n",
    "print(valor_t)\n",
    "print()\n",
    "\n",
    "produtos.append('Headset')\n",
    "print('------+---------+--------')\n",
    "print(' | '.join(produtos))\n",
    "\n",
    "vendas[0].append('100')\n",
    "vendas[1].append('150')\n",
    "vendas[2].append('10')\n",
    "vendas[3].append('200')\n",
    "\n",
    "print('------+---------+--------')\n",
    "print('{:>5} | {:>7} | {:>7}'.format(vendas[0][0],vendas[0][1],vendas[0][2]))\n",
    "print('{:>5} | {:>7} | {:>7}'.format(vendas[1][0],vendas[1][1],vendas[1][2]))\n",
    "print('{:>5} | {:>7} | {:>7}'.format(vendas[2][0],vendas[2][1],vendas[2][2]))\n",
    "print('{:>5} | {:>7} | {:>7}'.format(vendas[3][0],vendas[3][1],vendas[3][2]))\n",
    "print('------+---------+--------')"
   ]
  }
 ],
 "metadata": {
  "kernelspec": {
   "display_name": "Python 3 (ipykernel)",
   "language": "python",
   "name": "python3"
  },
  "language_info": {
   "codemirror_mode": {
    "name": "ipython",
    "version": 3
   },
   "file_extension": ".py",
   "mimetype": "text/x-python",
   "name": "python",
   "nbconvert_exporter": "python",
   "pygments_lexer": "ipython3",
   "version": "3.9.12"
  }
 },
 "nbformat": 4,
 "nbformat_minor": 5
}
