{
 "cells": [
  {
   "cell_type": "markdown",
   "metadata": {},
   "source": [
    "# Set\n",
    "\n",
    "### Estrutura:\n",
    "\n",
    "meu_set = {valor, valor, valor, valor,...}\n",
    "\n",
    "### Observações:\n",
    "\n",
    "- Não pode ter valores duplicados\n",
    "- Não tem ordem fixa"
   ]
  },
  {
   "cell_type": "code",
   "execution_count": null,
   "metadata": {},
   "outputs": [],
   "source": [
    "set_produtos = {'arroz', 'feijao', 'macarrao', 'atum', 'azeite'}\n",
    "\n",
    "print(set_produtos)"
   ]
  },
  {
   "cell_type": "markdown",
   "metadata": {},
   "source": [
    "- Aplicação bem útil:\n",
    "\n",
    "    1. Quantos clientes tivemos na loja?"
   ]
  },
  {
   "cell_type": "code",
   "execution_count": 1,
   "metadata": {},
   "outputs": [
    {
     "name": "stdout",
     "output_type": "stream",
     "text": [
      "14\n",
      "11\n",
      "['263.027.380-67', '393.462.330-10', '462.126.030-81', '596.125.830-05', '762.196.080-97', '827.363.930-40', '870.565.160-33', '892.080.930-50', '925.413.640-91', '988.305.810-11', '990.236.770-48']\n"
     ]
    }
   ],
   "source": [
    "cpf_clientes = ['762.196.080-97', '263.027.380-67', '827.363.930-40', '925.413.640-91', '870.565.160-33', '892.080.930-50', '462.126.030-81', '393.462.330-10', '393.462.330-10', '393.462.330-10', '988.305.810-11', '596.125.830-05', '596.125.830-05', '990.236.770-48']\n",
    "print(len(cpf_clientes))\n",
    "set_cpf = set(cpf_clientes)\n",
    "print(len(set_cpf))\n",
    "list_cpf = list(set_cpf)\n",
    "list_cpf.sort()\n",
    "print(list_cpf)\n"
   ]
  },
  {
   "cell_type": "code",
   "execution_count": 8,
   "metadata": {},
   "outputs": [
    {
     "name": "stdout",
     "output_type": "stream",
     "text": [
      " 0 x  0 =   0\n",
      " 0 x  1 =   0\n",
      " 0 x  2 =   0\n",
      " 0 x  3 =   0\n",
      " 0 x  4 =   0\n",
      " 0 x  5 =   0\n",
      " 0 x  6 =   0\n",
      " 0 x  7 =   0\n",
      " 0 x  8 =   0\n",
      " 0 x  9 =   0\n",
      " 0 x 10 =   0\n",
      "\n",
      " 1 x  0 =   0\n",
      " 1 x  1 =   1\n",
      " 1 x  2 =   2\n",
      " 1 x  3 =   3\n",
      " 1 x  4 =   4\n",
      " 1 x  5 =   5\n",
      " 1 x  6 =   6\n",
      " 1 x  7 =   7\n",
      " 1 x  8 =   8\n",
      " 1 x  9 =   9\n",
      " 1 x 10 =  10\n",
      "\n",
      " 2 x  0 =   0\n",
      " 2 x  1 =   2\n",
      " 2 x  2 =   4\n",
      " 2 x  3 =   6\n",
      " 2 x  4 =   8\n",
      " 2 x  5 =  10\n",
      " 2 x  6 =  12\n",
      " 2 x  7 =  14\n",
      " 2 x  8 =  16\n",
      " 2 x  9 =  18\n",
      " 2 x 10 =  20\n",
      "\n",
      " 3 x  0 =   0\n",
      " 3 x  1 =   3\n",
      " 3 x  2 =   6\n",
      " 3 x  3 =   9\n",
      " 3 x  4 =  12\n",
      " 3 x  5 =  15\n",
      " 3 x  6 =  18\n",
      " 3 x  7 =  21\n",
      " 3 x  8 =  24\n",
      " 3 x  9 =  27\n",
      " 3 x 10 =  30\n",
      "\n",
      " 4 x  0 =   0\n",
      " 4 x  1 =   4\n",
      " 4 x  2 =   8\n",
      " 4 x  3 =  12\n",
      " 4 x  4 =  16\n",
      " 4 x  5 =  20\n",
      " 4 x  6 =  24\n",
      " 4 x  7 =  28\n",
      " 4 x  8 =  32\n",
      " 4 x  9 =  36\n",
      " 4 x 10 =  40\n",
      "\n",
      " 5 x  0 =   0\n",
      " 5 x  1 =   5\n",
      " 5 x  2 =  10\n",
      " 5 x  3 =  15\n",
      " 5 x  4 =  20\n",
      " 5 x  5 =  25\n",
      " 5 x  6 =  30\n",
      " 5 x  7 =  35\n",
      " 5 x  8 =  40\n",
      " 5 x  9 =  45\n",
      " 5 x 10 =  50\n",
      "\n",
      " 6 x  0 =   0\n",
      " 6 x  1 =   6\n",
      " 6 x  2 =  12\n",
      " 6 x  3 =  18\n",
      " 6 x  4 =  24\n",
      " 6 x  5 =  30\n",
      " 6 x  6 =  36\n",
      " 6 x  7 =  42\n",
      " 6 x  8 =  48\n",
      " 6 x  9 =  54\n",
      " 6 x 10 =  60\n",
      "\n",
      " 7 x  0 =   0\n",
      " 7 x  1 =   7\n",
      " 7 x  2 =  14\n",
      " 7 x  3 =  21\n",
      " 7 x  4 =  28\n",
      " 7 x  5 =  35\n",
      " 7 x  6 =  42\n",
      " 7 x  7 =  49\n",
      " 7 x  8 =  56\n",
      " 7 x  9 =  63\n",
      " 7 x 10 =  70\n",
      "\n",
      " 8 x  0 =   0\n",
      " 8 x  1 =   8\n",
      " 8 x  2 =  16\n",
      " 8 x  3 =  24\n",
      " 8 x  4 =  32\n",
      " 8 x  5 =  40\n",
      " 8 x  6 =  48\n",
      " 8 x  7 =  56\n",
      " 8 x  8 =  64\n",
      " 8 x  9 =  72\n",
      " 8 x 10 =  80\n",
      "\n",
      " 9 x  0 =   0\n",
      " 9 x  1 =   9\n",
      " 9 x  2 =  18\n",
      " 9 x  3 =  27\n",
      " 9 x  4 =  36\n",
      " 9 x  5 =  45\n",
      " 9 x  6 =  54\n",
      " 9 x  7 =  63\n",
      " 9 x  8 =  72\n",
      " 9 x  9 =  81\n",
      " 9 x 10 =  90\n",
      "\n",
      "10 x  0 =   0\n",
      "10 x  1 =  10\n",
      "10 x  2 =  20\n",
      "10 x  3 =  30\n",
      "10 x  4 =  40\n",
      "10 x  5 =  50\n",
      "10 x  6 =  60\n",
      "10 x  7 =  70\n",
      "10 x  8 =  80\n",
      "10 x  9 =  90\n",
      "10 x 10 = 100\n",
      "\n"
     ]
    }
   ],
   "source": [
    "for i in range(0,11):\n",
    "    for j in range(0, 11):\n",
    "        print('{:2} x {:2} = {:3}'.format(i,j,i*j))\n",
    "    print()\n"
   ]
  },
  {
   "cell_type": "code",
   "execution_count": 13,
   "metadata": {},
   "outputs": [
    {
     "name": "stdout",
     "output_type": "stream",
     "text": [
      "Leandro\n",
      "31/03/1985\n",
      "Pardo\n",
      "\n",
      "1 – Leandro\n",
      "2 – 31/03/1985\n",
      "3 – Pardo\n"
     ]
    }
   ],
   "source": [
    "tupla = ('Leandro','31/03/1985','Pardo')\n",
    "for item in tupla:\n",
    "    print(item)\n",
    "\n",
    "#or\n",
    "print()\n",
    "for i, item in enumerate(tupla):\n",
    "    print('{} – {}'.format(i+1,item))\n"
   ]
  }
 ],
 "metadata": {
  "kernelspec": {
   "display_name": "Python 3 (ipykernel)",
   "language": "python",
   "name": "python3"
  },
  "language_info": {
   "codemirror_mode": {
    "name": "ipython",
    "version": 3
   },
   "file_extension": ".py",
   "mimetype": "text/x-python",
   "name": "python",
   "nbconvert_exporter": "python",
   "pygments_lexer": "ipython3",
   "version": "3.9.12"
  }
 },
 "nbformat": 4,
 "nbformat_minor": 4
}
