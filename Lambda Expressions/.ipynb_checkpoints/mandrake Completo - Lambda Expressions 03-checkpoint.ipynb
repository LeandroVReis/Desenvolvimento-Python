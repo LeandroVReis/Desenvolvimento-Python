{
 "cells": [
  {
   "cell_type": "markdown",
   "metadata": {},
   "source": [
    "# Lambda Expressions para gerar funções\n",
    "\n",
    "### Descrição\n",
    "\n",
    "- Uma das aplicações de lambda expressions, além da vista na aula passada, é criar um \"gerador de funções\". Nesse caso, usaremos a lambda expressions dentro da definição de uma outra função\n",
    "\n",
    "### Exemplo:\n",
    "\n",
    "1. Vamos criar uma função que me permita calcular o valor acrescido do imposto de diferentes categorias (produto, serviço, royalties, etc.)"
   ]
  },
  {
   "cell_type": "code",
   "execution_count": 21,
   "metadata": {},
   "outputs": [],
   "source": [
    "def calc_imposto(imposto):\n",
    "    return lambda preco: preco * (1 + imposto)\n",
    "\n",
    "#produto 0.1\n",
    "#serviço 0.15\n",
    "#royalties 0.25"
   ]
  },
  {
   "cell_type": "markdown",
   "metadata": {},
   "source": [
    "- Agora vamos definir as funções que calculam o imposto das 3 categorias (produto, serviço, royalties)"
   ]
  },
  {
   "cell_type": "code",
   "execution_count": 22,
   "metadata": {},
   "outputs": [],
   "source": [
    "preco_prod = calc_imposto(0.10)\n",
    "preco_serv = calc_imposto(0.1501)\n",
    "preco_royal = calc_imposto(0.25)"
   ]
  },
  {
   "cell_type": "markdown",
   "metadata": {},
   "source": [
    "- Agora vamos aplicar com um valor de nota fiscal de 100 para ver o resultado"
   ]
  },
  {
   "cell_type": "code",
   "execution_count": 27,
   "metadata": {},
   "outputs": [
    {
     "name": "stdout",
     "output_type": "stream",
     "text": [
      "Entre com o valor: 100\n",
      "125.0 - 115.0 - 125.0\n"
     ]
    }
   ],
   "source": [
    "valor = float(input('Entre com o valor: '))\n",
    "print('{:.1f} - {:.1f} - {:.1f}'.format(preco_royal(valor),preco_serv(valor),preco_royal(valor)))"
   ]
  },
  {
   "cell_type": "markdown",
   "metadata": {},
   "source": [
    "### É menos usado do que a forma anterior que vimos, mas pode ser útil caso queira criar funções que possam ser adaptadas como vimos aqui"
   ]
  },
  {
   "cell_type": "markdown",
   "metadata": {},
   "source": [
    "### Usando Lambda como função"
   ]
  },
  {
   "cell_type": "code",
   "execution_count": 25,
   "metadata": {},
   "outputs": [],
   "source": [
    "calc_imp_prod = lambda imposto: imposto * 1.10\n",
    "calc_imp_serv = lambda imposto: imposto * 1.1501\n",
    "calc_imp_royal = lambda imposto: imposto * 1.25"
   ]
  },
  {
   "cell_type": "code",
   "execution_count": 28,
   "metadata": {},
   "outputs": [
    {
     "name": "stdout",
     "output_type": "stream",
     "text": [
      "Entre com o valor: 100\n",
      "110.0 - 115.0 - 125.0\n"
     ]
    }
   ],
   "source": [
    "valor = float(input('Entre com o valor: '))\n",
    "print('{:.1f} - {:.1f} - {:.1f}'.format(calc_imp_prod(valor),calc_imp_serv(valor),calc_imp_royal(valor)))"
   ]
  },
  {
   "cell_type": "markdown",
   "metadata": {},
   "source": [
    "### Usando MAP e passando lista para atualização"
   ]
  },
  {
   "cell_type": "code",
   "execution_count": 60,
   "metadata": {},
   "outputs": [
    {
     "name": "stdout",
     "output_type": "stream",
     "text": [
      "valor R$ 1.000,00 = correção com impostos: produto R$ 1.100,00 serviço R$ 1.150,00 royalties R$ 1.250,00\n"
     ]
    }
   ],
   "source": [
    "lista = [1000]\n",
    "calc_imp_produto = list(map(lambda preco: preco * 1.1000, lista))\n",
    "calc_imp_servico = list(map(lambda preco: preco * 1.1500, lista))\n",
    "calc_imp_royalties = list(map(lambda preco: preco * 1.2500, lista))\n",
    "for i,item in enumerate(lista):\n",
    "    texto = 'valor R$ {:_.2f} = correção com impostos: produto R$ {:_.2f} serviço R$ {:_.2f} royalties R$ {:_.2f}'.format(item, calc_imp_produto[i], calc_imp_servico[i],calc_imp_royalties[i])\n",
    "    texto = texto.replace('.',',').replace('_','.')\n",
    "    print(texto)"
   ]
  }
 ],
 "metadata": {
  "kernelspec": {
   "display_name": "Python 3 (ipykernel)",
   "language": "python",
   "name": "python3"
  },
  "language_info": {
   "codemirror_mode": {
    "name": "ipython",
    "version": 3
   },
   "file_extension": ".py",
   "mimetype": "text/x-python",
   "name": "python",
   "nbconvert_exporter": "python",
   "pygments_lexer": "ipython3",
   "version": "3.9.12"
  }
 },
 "nbformat": 4,
 "nbformat_minor": 4
}
