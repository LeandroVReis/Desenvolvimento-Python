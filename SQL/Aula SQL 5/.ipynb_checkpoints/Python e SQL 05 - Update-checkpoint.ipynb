{
 "cells": [
  {
   "cell_type": "markdown",
   "metadata": {},
   "source": [
    "# Desafio Python e SQL\n",
    "\n",
    "### Update"
   ]
  },
  {
   "cell_type": "code",
   "execution_count": 3,
   "metadata": {},
   "outputs": [
    {
     "name": "stdout",
     "output_type": "stream",
     "text": [
      "Conexão bem sucedida!\n"
     ]
    }
   ],
   "source": [
    "import pyodbc\n",
    "\n",
    "dados_conexao = (\"Driver={SQLite3 ODBC Driver};\"\n",
    "                 \"Server=localhost;\"\n",
    "                 \"Database=chinook.db\")\n",
    "\n",
    "conexao = pyodbc.connect(dados_conexao)\n",
    "print('Conexão bem sucedida!')"
   ]
  },
  {
   "cell_type": "code",
   "execution_count": 4,
   "metadata": {},
   "outputs": [],
   "source": [
    "cursor = conexao.cursor()\n",
    "\n",
    "cursor.execute('''\n",
    "    UPDATE customers SET Email=\"lira@embraer.com.br\" WHERE Email=\"luisg@embraer.com.br\"\n",
    "''')\n",
    "\n",
    "cursor.commit()\n",
    "\n",
    "cursor.close()\n",
    "conexao.close()"
   ]
  }
 ],
 "metadata": {
  "kernelspec": {
   "display_name": "Python 3 (ipykernel)",
   "language": "python",
   "name": "python3"
  },
  "language_info": {
   "codemirror_mode": {
    "name": "ipython",
    "version": 3
   },
   "file_extension": ".py",
   "mimetype": "text/x-python",
   "name": "python",
   "nbconvert_exporter": "python",
   "pygments_lexer": "ipython3",
   "version": "3.9.12"
  }
 },
 "nbformat": 4,
 "nbformat_minor": 4
}
